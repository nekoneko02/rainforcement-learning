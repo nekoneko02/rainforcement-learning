{
  "nbformat": 4,
  "nbformat_minor": 0,
  "metadata": {
    "colab": {
      "provenance": [],
      "gpuType": "T4",
      "authorship_tag": "ABX9TyOIAXOqen9TjJAErE+APj9X",
      "include_colab_link": true
    },
    "kernelspec": {
      "name": "python3",
      "display_name": "Python 3"
    },
    "language_info": {
      "name": "python"
    }
  },
  "cells": [
    {
      "cell_type": "markdown",
      "metadata": {
        "id": "view-in-github",
        "colab_type": "text"
      },
      "source": [
        "<a href=\"https://colab.research.google.com/github/nekoneko02/rainforcement-learning/blob/main/MountainCar.ipynb\" target=\"_parent\"><img src=\"https://colab.research.google.com/assets/colab-badge.svg\" alt=\"Open In Colab\"/></a>"
      ]
    },
    {
      "cell_type": "code",
      "source": [
        "!pip install gymnasium\n",
        "!pip install torchrl\n",
        "!apt update && apt install xvfb\n",
        "!pip install gym-notebook-wrapper"
      ],
      "metadata": {
        "colab": {
          "base_uri": "https://localhost:8080/"
        },
        "id": "yt0RyeWosp8S",
        "outputId": "4176dde2-4698-494b-f500-3ad5b17d3c1d"
      },
      "execution_count": 1,
      "outputs": [
        {
          "output_type": "stream",
          "name": "stdout",
          "text": [
            "Collecting gymnasium\n",
            "  Downloading gymnasium-1.0.0-py3-none-any.whl.metadata (9.5 kB)\n",
            "Requirement already satisfied: numpy>=1.21.0 in /usr/local/lib/python3.10/dist-packages (from gymnasium) (1.26.4)\n",
            "Requirement already satisfied: cloudpickle>=1.2.0 in /usr/local/lib/python3.10/dist-packages (from gymnasium) (3.1.0)\n",
            "Requirement already satisfied: typing-extensions>=4.3.0 in /usr/local/lib/python3.10/dist-packages (from gymnasium) (4.12.2)\n",
            "Collecting farama-notifications>=0.0.1 (from gymnasium)\n",
            "  Downloading Farama_Notifications-0.0.4-py3-none-any.whl.metadata (558 bytes)\n",
            "Downloading gymnasium-1.0.0-py3-none-any.whl (958 kB)\n",
            "\u001b[2K   \u001b[90m━━━━━━━━━━━━━━━━━━━━━━━━━━━━━━━━━━━━━━━━\u001b[0m \u001b[32m958.1/958.1 kB\u001b[0m \u001b[31m18.0 MB/s\u001b[0m eta \u001b[36m0:00:00\u001b[0m\n",
            "\u001b[?25hDownloading Farama_Notifications-0.0.4-py3-none-any.whl (2.5 kB)\n",
            "Installing collected packages: farama-notifications, gymnasium\n",
            "Successfully installed farama-notifications-0.0.4 gymnasium-1.0.0\n",
            "Collecting torchrl\n",
            "  Downloading torchrl-0.6.0-cp310-cp310-manylinux1_x86_64.whl.metadata (39 kB)\n",
            "Requirement already satisfied: torch>=2.5.0 in /usr/local/lib/python3.10/dist-packages (from torchrl) (2.5.1+cu121)\n",
            "Requirement already satisfied: numpy in /usr/local/lib/python3.10/dist-packages (from torchrl) (1.26.4)\n",
            "Requirement already satisfied: packaging in /usr/local/lib/python3.10/dist-packages (from torchrl) (24.2)\n",
            "Requirement already satisfied: cloudpickle in /usr/local/lib/python3.10/dist-packages (from torchrl) (3.1.0)\n",
            "Collecting tensordict>=0.6.0 (from torchrl)\n",
            "  Downloading tensordict-0.6.2-cp310-cp310-manylinux1_x86_64.whl.metadata (8.9 kB)\n",
            "Requirement already satisfied: orjson in /usr/local/lib/python3.10/dist-packages (from tensordict>=0.6.0->torchrl) (3.10.12)\n",
            "Requirement already satisfied: filelock in /usr/local/lib/python3.10/dist-packages (from torch>=2.5.0->torchrl) (3.16.1)\n",
            "Requirement already satisfied: typing-extensions>=4.8.0 in /usr/local/lib/python3.10/dist-packages (from torch>=2.5.0->torchrl) (4.12.2)\n",
            "Requirement already satisfied: networkx in /usr/local/lib/python3.10/dist-packages (from torch>=2.5.0->torchrl) (3.4.2)\n",
            "Requirement already satisfied: jinja2 in /usr/local/lib/python3.10/dist-packages (from torch>=2.5.0->torchrl) (3.1.4)\n",
            "Requirement already satisfied: fsspec in /usr/local/lib/python3.10/dist-packages (from torch>=2.5.0->torchrl) (2024.10.0)\n",
            "Requirement already satisfied: sympy==1.13.1 in /usr/local/lib/python3.10/dist-packages (from torch>=2.5.0->torchrl) (1.13.1)\n",
            "Requirement already satisfied: mpmath<1.4,>=1.1.0 in /usr/local/lib/python3.10/dist-packages (from sympy==1.13.1->torch>=2.5.0->torchrl) (1.3.0)\n",
            "Requirement already satisfied: MarkupSafe>=2.0 in /usr/local/lib/python3.10/dist-packages (from jinja2->torch>=2.5.0->torchrl) (3.0.2)\n",
            "Downloading torchrl-0.6.0-cp310-cp310-manylinux1_x86_64.whl (1.0 MB)\n",
            "\u001b[2K   \u001b[90m━━━━━━━━━━━━━━━━━━━━━━━━━━━━━━━━━━━━━━━━\u001b[0m \u001b[32m1.0/1.0 MB\u001b[0m \u001b[31m23.8 MB/s\u001b[0m eta \u001b[36m0:00:00\u001b[0m\n",
            "\u001b[?25hDownloading tensordict-0.6.2-cp310-cp310-manylinux1_x86_64.whl (359 kB)\n",
            "\u001b[2K   \u001b[90m━━━━━━━━━━━━━━━━━━━━━━━━━━━━━━━━━━━━━━━━\u001b[0m \u001b[32m359.9/359.9 kB\u001b[0m \u001b[31m28.5 MB/s\u001b[0m eta \u001b[36m0:00:00\u001b[0m\n",
            "\u001b[?25hInstalling collected packages: tensordict, torchrl\n",
            "Successfully installed tensordict-0.6.2 torchrl-0.6.0\n",
            "Get:1 https://cloud.r-project.org/bin/linux/ubuntu jammy-cran40/ InRelease [3,626 B]\n",
            "Get:2 https://developer.download.nvidia.com/compute/cuda/repos/ubuntu2204/x86_64  InRelease [1,581 B]\n",
            "Get:3 http://security.ubuntu.com/ubuntu jammy-security InRelease [129 kB]\n",
            "Get:4 https://r2u.stat.illinois.edu/ubuntu jammy InRelease [6,555 B]\n",
            "Hit:5 http://archive.ubuntu.com/ubuntu jammy InRelease\n",
            "Get:6 http://archive.ubuntu.com/ubuntu jammy-updates InRelease [128 kB]\n",
            "Get:7 https://developer.download.nvidia.com/compute/cuda/repos/ubuntu2204/x86_64  Packages [1,197 kB]\n",
            "Get:8 https://r2u.stat.illinois.edu/ubuntu jammy/main all Packages [8,564 kB]\n",
            "Get:9 http://archive.ubuntu.com/ubuntu jammy-backports InRelease [127 kB]\n",
            "Hit:10 https://ppa.launchpadcontent.net/deadsnakes/ppa/ubuntu jammy InRelease\n",
            "Get:11 http://archive.ubuntu.com/ubuntu jammy-updates/restricted amd64 Packages [3,633 kB]\n",
            "Hit:12 https://ppa.launchpadcontent.net/graphics-drivers/ppa/ubuntu jammy InRelease\n",
            "Hit:13 https://ppa.launchpadcontent.net/ubuntugis/ppa/ubuntu jammy InRelease\n",
            "Get:14 https://r2u.stat.illinois.edu/ubuntu jammy/main amd64 Packages [2,631 kB]\n",
            "Get:15 http://archive.ubuntu.com/ubuntu jammy-updates/universe amd64 Packages [1,517 kB]\n",
            "Get:16 http://archive.ubuntu.com/ubuntu jammy-updates/main amd64 Packages [2,840 kB]\n",
            "Get:17 http://archive.ubuntu.com/ubuntu jammy-backports/main amd64 Packages [81.4 kB]\n",
            "Get:18 http://archive.ubuntu.com/ubuntu jammy-backports/universe amd64 Packages [33.8 kB]\n",
            "Get:19 http://security.ubuntu.com/ubuntu jammy-security/universe amd64 Packages [1,226 kB]\n",
            "Get:20 http://security.ubuntu.com/ubuntu jammy-security/main amd64 Packages [2,517 kB]\n",
            "Get:21 http://security.ubuntu.com/ubuntu jammy-security/restricted amd64 Packages [3,448 kB]\n",
            "Fetched 28.1 MB in 4s (7,554 kB/s)\n",
            "Reading package lists... Done\n",
            "Building dependency tree... Done\n",
            "Reading state information... Done\n",
            "50 packages can be upgraded. Run 'apt list --upgradable' to see them.\n",
            "\u001b[1;33mW: \u001b[0mSkipping acquire of configured file 'main/source/Sources' as repository 'https://r2u.stat.illinois.edu/ubuntu jammy InRelease' does not seem to provide it (sources.list entry misspelt?)\u001b[0m\n",
            "Reading package lists... Done\n",
            "Building dependency tree... Done\n",
            "Reading state information... Done\n",
            "The following additional packages will be installed:\n",
            "  libfontenc1 libxfont2 libxkbfile1 x11-xkb-utils xfonts-base xfonts-encodings xfonts-utils\n",
            "  xserver-common\n",
            "The following NEW packages will be installed:\n",
            "  libfontenc1 libxfont2 libxkbfile1 x11-xkb-utils xfonts-base xfonts-encodings xfonts-utils\n",
            "  xserver-common xvfb\n",
            "0 upgraded, 9 newly installed, 0 to remove and 50 not upgraded.\n",
            "Need to get 7,815 kB of archives.\n",
            "After this operation, 11.9 MB of additional disk space will be used.\n",
            "Get:1 http://archive.ubuntu.com/ubuntu jammy/main amd64 libfontenc1 amd64 1:1.1.4-1build3 [14.7 kB]\n",
            "Get:2 http://archive.ubuntu.com/ubuntu jammy/main amd64 libxfont2 amd64 1:2.0.5-1build1 [94.5 kB]\n",
            "Get:3 http://archive.ubuntu.com/ubuntu jammy/main amd64 libxkbfile1 amd64 1:1.1.0-1build3 [71.8 kB]\n",
            "Get:4 http://archive.ubuntu.com/ubuntu jammy/main amd64 x11-xkb-utils amd64 7.7+5build4 [172 kB]\n",
            "Get:5 http://archive.ubuntu.com/ubuntu jammy/main amd64 xfonts-encodings all 1:1.0.5-0ubuntu2 [578 kB]\n",
            "Get:6 http://archive.ubuntu.com/ubuntu jammy/main amd64 xfonts-utils amd64 1:7.7+6build2 [94.6 kB]\n",
            "Get:7 http://archive.ubuntu.com/ubuntu jammy/main amd64 xfonts-base all 1:1.0.5 [5,896 kB]\n",
            "Get:8 http://archive.ubuntu.com/ubuntu jammy-updates/main amd64 xserver-common all 2:21.1.4-2ubuntu1.7~22.04.12 [28.7 kB]\n",
            "Get:9 http://archive.ubuntu.com/ubuntu jammy-updates/universe amd64 xvfb amd64 2:21.1.4-2ubuntu1.7~22.04.12 [864 kB]\n",
            "Fetched 7,815 kB in 1s (8,440 kB/s)\n",
            "Selecting previously unselected package libfontenc1:amd64.\n",
            "(Reading database ... 123634 files and directories currently installed.)\n",
            "Preparing to unpack .../0-libfontenc1_1%3a1.1.4-1build3_amd64.deb ...\n",
            "Unpacking libfontenc1:amd64 (1:1.1.4-1build3) ...\n",
            "Selecting previously unselected package libxfont2:amd64.\n",
            "Preparing to unpack .../1-libxfont2_1%3a2.0.5-1build1_amd64.deb ...\n",
            "Unpacking libxfont2:amd64 (1:2.0.5-1build1) ...\n",
            "Selecting previously unselected package libxkbfile1:amd64.\n",
            "Preparing to unpack .../2-libxkbfile1_1%3a1.1.0-1build3_amd64.deb ...\n",
            "Unpacking libxkbfile1:amd64 (1:1.1.0-1build3) ...\n",
            "Selecting previously unselected package x11-xkb-utils.\n",
            "Preparing to unpack .../3-x11-xkb-utils_7.7+5build4_amd64.deb ...\n",
            "Unpacking x11-xkb-utils (7.7+5build4) ...\n",
            "Selecting previously unselected package xfonts-encodings.\n",
            "Preparing to unpack .../4-xfonts-encodings_1%3a1.0.5-0ubuntu2_all.deb ...\n",
            "Unpacking xfonts-encodings (1:1.0.5-0ubuntu2) ...\n",
            "Selecting previously unselected package xfonts-utils.\n",
            "Preparing to unpack .../5-xfonts-utils_1%3a7.7+6build2_amd64.deb ...\n",
            "Unpacking xfonts-utils (1:7.7+6build2) ...\n",
            "Selecting previously unselected package xfonts-base.\n",
            "Preparing to unpack .../6-xfonts-base_1%3a1.0.5_all.deb ...\n",
            "Unpacking xfonts-base (1:1.0.5) ...\n",
            "Selecting previously unselected package xserver-common.\n",
            "Preparing to unpack .../7-xserver-common_2%3a21.1.4-2ubuntu1.7~22.04.12_all.deb ...\n",
            "Unpacking xserver-common (2:21.1.4-2ubuntu1.7~22.04.12) ...\n",
            "Selecting previously unselected package xvfb.\n",
            "Preparing to unpack .../8-xvfb_2%3a21.1.4-2ubuntu1.7~22.04.12_amd64.deb ...\n",
            "Unpacking xvfb (2:21.1.4-2ubuntu1.7~22.04.12) ...\n",
            "Setting up libfontenc1:amd64 (1:1.1.4-1build3) ...\n",
            "Setting up xfonts-encodings (1:1.0.5-0ubuntu2) ...\n",
            "Setting up libxkbfile1:amd64 (1:1.1.0-1build3) ...\n",
            "Setting up libxfont2:amd64 (1:2.0.5-1build1) ...\n",
            "Setting up x11-xkb-utils (7.7+5build4) ...\n",
            "Setting up xfonts-utils (1:7.7+6build2) ...\n",
            "Setting up xfonts-base (1:1.0.5) ...\n",
            "Setting up xserver-common (2:21.1.4-2ubuntu1.7~22.04.12) ...\n",
            "Setting up xvfb (2:21.1.4-2ubuntu1.7~22.04.12) ...\n",
            "Processing triggers for man-db (2.10.2-1) ...\n",
            "Processing triggers for fontconfig (2.13.1-4.2ubuntu5) ...\n",
            "Processing triggers for libc-bin (2.35-0ubuntu3.4) ...\n",
            "/sbin/ldconfig.real: /usr/local/lib/libtcm_debug.so.1 is not a symbolic link\n",
            "\n",
            "/sbin/ldconfig.real: /usr/local/lib/libur_loader.so.0 is not a symbolic link\n",
            "\n",
            "/sbin/ldconfig.real: /usr/local/lib/libhwloc.so.15 is not a symbolic link\n",
            "\n",
            "/sbin/ldconfig.real: /usr/local/lib/libumf.so.0 is not a symbolic link\n",
            "\n",
            "/sbin/ldconfig.real: /usr/local/lib/libtbbmalloc_proxy.so.2 is not a symbolic link\n",
            "\n",
            "/sbin/ldconfig.real: /usr/local/lib/libtbbbind_2_0.so.3 is not a symbolic link\n",
            "\n",
            "/sbin/ldconfig.real: /usr/local/lib/libtbbbind.so.3 is not a symbolic link\n",
            "\n",
            "/sbin/ldconfig.real: /usr/local/lib/libtbbmalloc.so.2 is not a symbolic link\n",
            "\n",
            "/sbin/ldconfig.real: /usr/local/lib/libtbb.so.12 is not a symbolic link\n",
            "\n",
            "/sbin/ldconfig.real: /usr/local/lib/libtbbbind_2_5.so.3 is not a symbolic link\n",
            "\n",
            "/sbin/ldconfig.real: /usr/local/lib/libtcm.so.1 is not a symbolic link\n",
            "\n",
            "/sbin/ldconfig.real: /usr/local/lib/libur_adapter_level_zero.so.0 is not a symbolic link\n",
            "\n",
            "/sbin/ldconfig.real: /usr/local/lib/libur_adapter_opencl.so.0 is not a symbolic link\n",
            "\n",
            "Collecting gym-notebook-wrapper\n",
            "  Downloading gym_notebook_wrapper-1.3.3-py3-none-any.whl.metadata (9.8 kB)\n",
            "Requirement already satisfied: gym in /usr/local/lib/python3.10/dist-packages (from gym-notebook-wrapper) (0.25.2)\n",
            "Requirement already satisfied: matplotlib in /usr/local/lib/python3.10/dist-packages (from gym-notebook-wrapper) (3.8.0)\n",
            "Collecting pyvirtualdisplay (from gym-notebook-wrapper)\n",
            "  Downloading PyVirtualDisplay-3.0-py3-none-any.whl.metadata (943 bytes)\n",
            "Requirement already satisfied: ipython in /usr/local/lib/python3.10/dist-packages (from gym-notebook-wrapper) (7.34.0)\n",
            "Requirement already satisfied: moviepy in /usr/local/lib/python3.10/dist-packages (from gym-notebook-wrapper) (1.0.3)\n",
            "Requirement already satisfied: numpy>=1.18.0 in /usr/local/lib/python3.10/dist-packages (from gym->gym-notebook-wrapper) (1.26.4)\n",
            "Requirement already satisfied: cloudpickle>=1.2.0 in /usr/local/lib/python3.10/dist-packages (from gym->gym-notebook-wrapper) (3.1.0)\n",
            "Requirement already satisfied: gym_notices>=0.0.4 in /usr/local/lib/python3.10/dist-packages (from gym->gym-notebook-wrapper) (0.0.8)\n",
            "Requirement already satisfied: setuptools>=18.5 in /usr/local/lib/python3.10/dist-packages (from ipython->gym-notebook-wrapper) (75.1.0)\n",
            "Collecting jedi>=0.16 (from ipython->gym-notebook-wrapper)\n",
            "  Downloading jedi-0.19.2-py2.py3-none-any.whl.metadata (22 kB)\n",
            "Requirement already satisfied: decorator in /usr/local/lib/python3.10/dist-packages (from ipython->gym-notebook-wrapper) (4.4.2)\n",
            "Requirement already satisfied: pickleshare in /usr/local/lib/python3.10/dist-packages (from ipython->gym-notebook-wrapper) (0.7.5)\n",
            "Requirement already satisfied: traitlets>=4.2 in /usr/local/lib/python3.10/dist-packages (from ipython->gym-notebook-wrapper) (5.7.1)\n",
            "Requirement already satisfied: prompt-toolkit!=3.0.0,!=3.0.1,<3.1.0,>=2.0.0 in /usr/local/lib/python3.10/dist-packages (from ipython->gym-notebook-wrapper) (3.0.48)\n",
            "Requirement already satisfied: pygments in /usr/local/lib/python3.10/dist-packages (from ipython->gym-notebook-wrapper) (2.18.0)\n",
            "Requirement already satisfied: backcall in /usr/local/lib/python3.10/dist-packages (from ipython->gym-notebook-wrapper) (0.2.0)\n",
            "Requirement already satisfied: matplotlib-inline in /usr/local/lib/python3.10/dist-packages (from ipython->gym-notebook-wrapper) (0.1.7)\n",
            "Requirement already satisfied: pexpect>4.3 in /usr/local/lib/python3.10/dist-packages (from ipython->gym-notebook-wrapper) (4.9.0)\n",
            "Requirement already satisfied: contourpy>=1.0.1 in /usr/local/lib/python3.10/dist-packages (from matplotlib->gym-notebook-wrapper) (1.3.1)\n",
            "Requirement already satisfied: cycler>=0.10 in /usr/local/lib/python3.10/dist-packages (from matplotlib->gym-notebook-wrapper) (0.12.1)\n",
            "Requirement already satisfied: fonttools>=4.22.0 in /usr/local/lib/python3.10/dist-packages (from matplotlib->gym-notebook-wrapper) (4.55.3)\n",
            "Requirement already satisfied: kiwisolver>=1.0.1 in /usr/local/lib/python3.10/dist-packages (from matplotlib->gym-notebook-wrapper) (1.4.7)\n",
            "Requirement already satisfied: packaging>=20.0 in /usr/local/lib/python3.10/dist-packages (from matplotlib->gym-notebook-wrapper) (24.2)\n",
            "Requirement already satisfied: pillow>=6.2.0 in /usr/local/lib/python3.10/dist-packages (from matplotlib->gym-notebook-wrapper) (11.0.0)\n",
            "Requirement already satisfied: pyparsing>=2.3.1 in /usr/local/lib/python3.10/dist-packages (from matplotlib->gym-notebook-wrapper) (3.2.0)\n",
            "Requirement already satisfied: python-dateutil>=2.7 in /usr/local/lib/python3.10/dist-packages (from matplotlib->gym-notebook-wrapper) (2.8.2)\n",
            "Requirement already satisfied: imageio<3.0,>=2.5 in /usr/local/lib/python3.10/dist-packages (from moviepy->gym-notebook-wrapper) (2.36.1)\n",
            "Requirement already satisfied: imageio_ffmpeg>=0.2.0 in /usr/local/lib/python3.10/dist-packages (from moviepy->gym-notebook-wrapper) (0.5.1)\n",
            "Requirement already satisfied: tqdm<5.0,>=4.11.2 in /usr/local/lib/python3.10/dist-packages (from moviepy->gym-notebook-wrapper) (4.67.1)\n",
            "Requirement already satisfied: requests<3.0,>=2.8.1 in /usr/local/lib/python3.10/dist-packages (from moviepy->gym-notebook-wrapper) (2.32.3)\n",
            "Requirement already satisfied: proglog<=1.0.0 in /usr/local/lib/python3.10/dist-packages (from moviepy->gym-notebook-wrapper) (0.1.10)\n",
            "Requirement already satisfied: parso<0.9.0,>=0.8.4 in /usr/local/lib/python3.10/dist-packages (from jedi>=0.16->ipython->gym-notebook-wrapper) (0.8.4)\n",
            "Requirement already satisfied: ptyprocess>=0.5 in /usr/local/lib/python3.10/dist-packages (from pexpect>4.3->ipython->gym-notebook-wrapper) (0.7.0)\n",
            "Requirement already satisfied: wcwidth in /usr/local/lib/python3.10/dist-packages (from prompt-toolkit!=3.0.0,!=3.0.1,<3.1.0,>=2.0.0->ipython->gym-notebook-wrapper) (0.2.13)\n",
            "Requirement already satisfied: six>=1.5 in /usr/local/lib/python3.10/dist-packages (from python-dateutil>=2.7->matplotlib->gym-notebook-wrapper) (1.17.0)\n",
            "Requirement already satisfied: charset-normalizer<4,>=2 in /usr/local/lib/python3.10/dist-packages (from requests<3.0,>=2.8.1->moviepy->gym-notebook-wrapper) (3.4.0)\n",
            "Requirement already satisfied: idna<4,>=2.5 in /usr/local/lib/python3.10/dist-packages (from requests<3.0,>=2.8.1->moviepy->gym-notebook-wrapper) (3.10)\n",
            "Requirement already satisfied: urllib3<3,>=1.21.1 in /usr/local/lib/python3.10/dist-packages (from requests<3.0,>=2.8.1->moviepy->gym-notebook-wrapper) (2.2.3)\n",
            "Requirement already satisfied: certifi>=2017.4.17 in /usr/local/lib/python3.10/dist-packages (from requests<3.0,>=2.8.1->moviepy->gym-notebook-wrapper) (2024.12.14)\n",
            "Downloading gym_notebook_wrapper-1.3.3-py3-none-any.whl (9.9 kB)\n",
            "Downloading PyVirtualDisplay-3.0-py3-none-any.whl (15 kB)\n",
            "Downloading jedi-0.19.2-py2.py3-none-any.whl (1.6 MB)\n",
            "\u001b[2K   \u001b[90m━━━━━━━━━━━━━━━━━━━━━━━━━━━━━━━━━━━━━━━━\u001b[0m \u001b[32m1.6/1.6 MB\u001b[0m \u001b[31m28.3 MB/s\u001b[0m eta \u001b[36m0:00:00\u001b[0m\n",
            "\u001b[?25hInstalling collected packages: pyvirtualdisplay, jedi, gym-notebook-wrapper\n",
            "Successfully installed gym-notebook-wrapper-1.3.3 jedi-0.19.2 pyvirtualdisplay-3.0\n"
          ]
        }
      ]
    },
    {
      "cell_type": "code",
      "source": [
        "import gymnasium as gym\n",
        "from gymnasium.wrappers import RecordVideo\n",
        "import math\n",
        "import random\n",
        "import matplotlib\n",
        "import matplotlib.pyplot as plt\n",
        "from collections import namedtuple, deque\n",
        "from itertools import count\n",
        "import numpy as np\n",
        "\n",
        "import torch\n",
        "import torch.nn as nn\n",
        "import torch.optim as optim\n",
        "import torch.nn.functional as F\n",
        "\n",
        "gym_name = \"MountainCar-v0\"\n",
        "env = gym.make(gym_name)\n",
        "\n",
        "# if GPU is to be used\n",
        "device = torch.device(\n",
        "    \"cuda\" if torch.cuda.is_available() else\n",
        "    \"mps\" if torch.backends.mps.is_available() else\n",
        "    \"cpu\"\n",
        ")"
      ],
      "metadata": {
        "id": "dULje6NyshVp"
      },
      "execution_count": 2,
      "outputs": []
    },
    {
      "cell_type": "markdown",
      "source": [
        "# envの使い方"
      ],
      "metadata": {
        "id": "3r0tOV4z0ms0"
      }
    },
    {
      "cell_type": "code",
      "source": [
        "state, info = env.reset()\n",
        "print(f\"state:{state}\")\n",
        "state_space = len(state)\n",
        "print(f\"state_space:{state_space}\")\n",
        "action_space = env.action_space.n\n",
        "print(f\"action_space:{action_space}\")\n",
        "\n",
        "action = 0\n",
        "next_status, reward, done, truncation, info = env.step(action)\n",
        "print(f\"next_status:{next_status}\")\n",
        "print(f\"reward:{reward}\")\n",
        "print(f\"done:{done}\")\n",
        "print(f\"truncation:{truncation}\")\n",
        "print(f\"info:{info}\")"
      ],
      "metadata": {
        "colab": {
          "base_uri": "https://localhost:8080/"
        },
        "id": "7F-YpO06zPdT",
        "outputId": "32d3abf1-c2f3-4d9d-f6b5-0b06514ba064"
      },
      "execution_count": 3,
      "outputs": [
        {
          "output_type": "stream",
          "name": "stdout",
          "text": [
            "state:[-0.5290063  0.       ]\n",
            "state_space:2\n",
            "action_space:3\n",
            "next_status:[-0.52996576 -0.00095945]\n",
            "reward:-1.0\n",
            "done:False\n",
            "truncation:False\n",
            "info:{}\n"
          ]
        }
      ]
    },
    {
      "cell_type": "markdown",
      "source": [
        "# Q Net"
      ],
      "metadata": {
        "id": "pFl_wE9f0t2a"
      }
    },
    {
      "cell_type": "code",
      "source": [
        "class ValueNet(nn.Module):\n",
        "    def __init__(self):\n",
        "        super().__init__()\n",
        "        self.fc1 = nn.Linear(state_space, 64)\n",
        "        self.fc2 = nn.Linear(64, 1)\n",
        "\n",
        "    def forward(self, x):\n",
        "        x = F.relu(self.fc1(x))\n",
        "        return self.fc2(x)"
      ],
      "metadata": {
        "id": "TuY32ioN6Vz4"
      },
      "execution_count": 4,
      "outputs": []
    },
    {
      "cell_type": "code",
      "source": [
        "class PolicyNet(nn.Module):\n",
        "    def __init__(self):\n",
        "        super().__init__()\n",
        "        self.fc1 = nn.Linear(state_space, 64)\n",
        "        self.fc2 = nn.Linear(64, action_space)\n",
        "\n",
        "    def forward(self, x):\n",
        "        x = F.relu(self.fc1(x))\n",
        "        x = self.fc2(x)\n",
        "        return F.softmax(x, dim=1)"
      ],
      "metadata": {
        "id": "88tw8KN1kJnm"
      },
      "execution_count": 5,
      "outputs": []
    },
    {
      "cell_type": "code",
      "source": [
        "from torchrl.data import TensorDictReplayBuffer, ListStorage\n",
        "class ReplayBufferWrapper(TensorDictReplayBuffer):\n",
        "    def sample(self, include_info):\n",
        "      data = super().sample(include_info = include_info)\n",
        "      state = torch.stack([x[\"state\"][0] for x in data])\n",
        "      action = torch.tensor([x[\"action\"] for x in data])\n",
        "      reward = torch.tensor([x[\"reward\"] for x in data])\n",
        "      next_state = torch.stack([x[\"next_state\"][0] for x in data])\n",
        "      done = torch.tensor([x[\"done\"] for x in data], dtype = torch.int32)\n",
        "      action_prob = torch.tensor([x[\"action_prob\"] for x in data])\n",
        "      return state, action, reward, next_state, done, action_prob"
      ],
      "metadata": {
        "id": "zPwgzG-FkpYP",
        "colab": {
          "base_uri": "https://localhost:8080/"
        },
        "outputId": "a418bfe1-475f-483b-f7d5-4840b45a047f"
      },
      "execution_count": 82,
      "outputs": [
        {
          "output_type": "stream",
          "name": "stderr",
          "text": [
            "/usr/local/lib/python3.10/dist-packages/ipykernel/ipkernel.py:283: DeprecationWarning: `should_run_async` will not call `transform_cell` automatically in the future. Please pass the result to `transformed_cell` argument and any exception that happen during thetransform in `preprocessing_exc_tuple` in IPython 7.17 and above.\n",
            "  and should_run_async(code)\n"
          ]
        }
      ]
    },
    {
      "cell_type": "code",
      "source": [
        "from torchrl.data.replay_buffers.samplers import PrioritizedSampler\n",
        "from tensordict import TensorDict\n",
        "import copy\n",
        "\n",
        "class QLearningAgent:\n",
        "  def __init__(self):\n",
        "    self.gamma = 0.9\n",
        "    self.lr = 0.01\n",
        "    self.init_epsilon = 1\n",
        "    self.min_epsilon = 0.1\n",
        "    self.epsilon_decay = 0.9995\n",
        "    self.epsilon = self.init_epsilon\n",
        "    self.action_size = 2\n",
        "    self.buffer_size = 10000\n",
        "    self.batch_size = 32\n",
        "    self.inf_zero = 1e-8\n",
        "\n",
        "    self.replay_buffer = ReplayBufferWrapper(\n",
        "      storage=ListStorage(max_size=self.buffer_size),\n",
        "      sampler=PrioritizedSampler(max_capacity=self.buffer_size, alpha=0.8, beta=1.1),\n",
        "      collate_fn=lambda x: x,\n",
        "      batch_size=self.batch_size,\n",
        "    )\n",
        "    # q_net\n",
        "    self.q_net = ValueNet().to(device)\n",
        "    self.q_net_target = ValueNet().to(device)\n",
        "    self.optimizer_q = optim.Adam(self.q_net.parameters(), lr=self.lr)\n",
        "    # pi\n",
        "    self.pi_net = PolicyNet().to(device)\n",
        "    self.pi_net_target = PolicyNet().to(device)\n",
        "    self.optimizer_pi = optim.Adam(self.pi_net.parameters(), lr=self.lr)\n",
        "  def select_action(self, state, epsilon_greedy = True):\n",
        "    # epsilonの更新\n",
        "    self.epsilon = max(self.min_epsilon, self.epsilon * self.epsilon_decay)\n",
        "\n",
        "    state = state[np.newaxis, :]\n",
        "    action_probs = self.pi_net(state)[0]\n",
        "    if epsilon_greedy and np.random.rand() < self.epsilon:\n",
        "      action = np.random.choice(self.action_size)\n",
        "      return action, self.epsilon / self.action_size + ( 1 - self.epsilon ) * action_probs[action]\n",
        "    action = np.random.choice(len(action_probs), p = action_probs.cpu().detach().numpy())\n",
        "    return action, self.epsilon / self.action_size + ( 1 - self.epsilon ) * action_probs[action]\n",
        "  def sync_qnet(self):\n",
        "    self.q_net_target = copy.deepcopy(self.q_net)\n",
        "    self.pi_net_target = copy.deepcopy(self.pi_net)\n",
        "  def update(self, state, action, reward, next_state, done, action_prob):\n",
        "    state = state[np.newaxis, :]\n",
        "    next_state = next_state[np.newaxis, :]\n",
        "    q = self.q_net(state)\n",
        "    next_q = self.q_net(next_state) * (1 - done)\n",
        "    target = reward + self.gamma * next_q\n",
        "    target = torch.abs(target)\n",
        "    target = target.detach()\n",
        "\n",
        "    data = TensorDict({\n",
        "      \"state\": torch.tensor(state, dtype=torch.float32),\n",
        "      \"action\": torch.tensor([[action]], dtype=torch.int64),\n",
        "      \"next_state\": torch.tensor(next_state, dtype=torch.float32),\n",
        "      \"reward\": torch.tensor([[reward]], dtype=torch.float32),\n",
        "      \"done\": torch.tensor([[done]], dtype=torch.int32),\n",
        "      \"action_prob\": torch.tensor([[action_prob]], dtype=torch.float32),\n",
        "      \"td_error\": target\n",
        "    }, [1])\n",
        "    self.replay_buffer.add(data)\n",
        "\n",
        "    if len(self.replay_buffer) < self.batch_size:\n",
        "      return 0, 0\n",
        "    state_batch, action_batch, reward_batch, next_state_batch, done_batch, action_prob_batch = self.replay_buffer.sample(include_info=False)\n",
        "    #print(    state_batch.shape, action_batch.shape, reward_batch.shape, next_state_batch.shape, done_batch.shape, action_prob_batch.shape)\n",
        "\n",
        "    # loss_qの計算\n",
        "    q = self.q_net(state_batch)\n",
        "    next_q = self.q_net_target(next_state_batch)[:, 0]\n",
        "    next_q = next_q * (1 - done_batch)\n",
        "\n",
        "    target = reward_batch + self.gamma * next_q\n",
        "    target = target.unsqueeze(1).detach()\n",
        "    loss_q = F.mse_loss(q, target)\n",
        "\n",
        "    # loss_piの計算\n",
        "    action_prob_current_batch = self.pi_net(state_batch)\n",
        "    #print(action_prob_current_batch.shape, np.arange(self.batch_size), action_batch)\n",
        "    action_prob_current_batch = action_prob_current_batch[np.arange(self.batch_size), action_batch]\n",
        "    action_prob_current_batch = action_prob_current_batch[:, np.newaxis]\n",
        "    action_prob_batch = action_prob_batch[:, np.newaxis] + self.inf_zero\n",
        "    beta = action_prob_current_batch / action_prob_batch\n",
        "    delta = target - q#reward + self.gamma * self.q_net_target(next_state) * (1 - done) - self.q_net(state)\n",
        "    delta = (beta * delta).detach()\n",
        "    loss_pi = - delta * torch.log(action_prob_current_batch + self.inf_zero)\n",
        "    #print(action_prob_current_batch.shape, beta.shape, delta.shape, loss_pi.shape)\n",
        "    loss_pi = loss_pi.mean()\n",
        "    \"\"\"\n",
        "    # loss_qの計算\n",
        "    state = state[np.newaxis, :]\n",
        "    next_state = next_state[np.newaxis, :]\n",
        "    q = self.q_net(state)\n",
        "    next_q = self.q_net(next_state) * (1 - done)\n",
        "\n",
        "    target = reward + self.gamma * next_q\n",
        "    target = target.detach()\n",
        "    loss_q = F.mse_loss(q, target)\n",
        "\n",
        "    # loss_piの計算\n",
        "    action_prob_current = self.pi_net(state)[0, action]\n",
        "    beta = action_prob_current / action_prob\n",
        "    delta = target - q#reward + self.gamma * self.q_net_target(next_state) * (1 - done) - self.q_net(state)\n",
        "    delta = (beta * delta).detach()\n",
        "    loss_pi = - delta * torch.log(action_prob_current)\n",
        "    #loss_pi = loss_pi.mean()\n",
        "    \"\"\"\n",
        "    self.optimizer_q.zero_grad()\n",
        "    self.optimizer_pi.zero_grad()\n",
        "    loss_q.backward()\n",
        "    loss_pi.backward()\n",
        "    self.optimizer_q.step()\n",
        "    self.optimizer_pi.step()\n",
        "\n",
        "    return loss_q, loss_pi"
      ],
      "metadata": {
        "id": "CsLL7xoAlk0m"
      },
      "execution_count": 87,
      "outputs": []
    },
    {
      "cell_type": "markdown",
      "source": [
        "# training"
      ],
      "metadata": {
        "id": "-hOV9-VX8pzV"
      }
    },
    {
      "cell_type": "code",
      "source": [
        "agent = QLearningAgent()\n",
        "\n",
        "episodes = 40\n",
        "sync_interval = 2\n",
        "loss_history = []\n",
        "reward_history = []\n",
        "\n",
        "m = 1\n",
        "g = 9.8\n",
        "\n",
        "for episode in range(episodes):\n",
        "    state, info = env.reset()\n",
        "    state = torch.tensor(state, dtype=torch.float32).to(device)\n",
        "    done = False\n",
        "    total_loss_q, total_loss_pi, total_reward, max_hight, cnt = 0, 0, 0, 0, 0\n",
        "\n",
        "    while not done:\n",
        "        action, action_prob = agent.select_action(state)\n",
        "        next_state, reward, done, truncation, info = env.step(action)\n",
        "        next_state = torch.tensor(next_state, dtype=torch.float32).to(device)\n",
        "\n",
        "        x = next_state[0]\n",
        "        y = torch.sin(x * np.pi)\n",
        "        v = next_state[1]\n",
        "        E = m * v ** 2\n",
        "        U = m * g * y\n",
        "        reward = reward + E + U\n",
        "        loss_q, loss_pi = agent.update(\n",
        "            state = state,\n",
        "            action = action,\n",
        "            reward = reward,\n",
        "            next_state = next_state,\n",
        "            done = done,\n",
        "            action_prob = action_prob\n",
        "        )\n",
        "        #print(loss_q, loss_pi, reward)\n",
        "        total_reward += reward\n",
        "        total_loss_q += loss_q\n",
        "        total_loss_pi += loss_pi\n",
        "        cnt += 1\n",
        "        state = next_state\n",
        "        if cnt % 1000 == 0 :\n",
        "          print(f\"episode:{episode}, loss:{total_loss_q / cnt}, {total_loss_pi / cnt}, reward: {total_reward / cnt}, cnt: {cnt}\")\n",
        "\n",
        "    if episode % sync_interval == 0:\n",
        "      agent.sync_qnet()\n",
        "\n",
        "    reward_history.append(total_reward / cnt)\n",
        "    loss_history.append(total_loss_q / cnt)\n",
        "    print(f\"episode:{episode}, loss:{total_loss_q / cnt}, {total_loss_pi / cnt}, reward: {total_reward / cnt}, cnt: {cnt}\")"
      ],
      "metadata": {
        "colab": {
          "base_uri": "https://localhost:8080/",
          "height": 1000
        },
        "id": "-5gntAz38r9X",
        "outputId": "db72acab-be12-49da-bb45-f84440af9838"
      },
      "execution_count": 90,
      "outputs": [
        {
          "output_type": "stream",
          "name": "stderr",
          "text": [
            "<ipython-input-87-99c1a2d692d7>:56: UserWarning: To copy construct from a tensor, it is recommended to use sourceTensor.clone().detach() or sourceTensor.clone().detach().requires_grad_(True), rather than torch.tensor(sourceTensor).\n",
            "  \"state\": torch.tensor(state, dtype=torch.float32),\n",
            "<ipython-input-87-99c1a2d692d7>:58: UserWarning: To copy construct from a tensor, it is recommended to use sourceTensor.clone().detach() or sourceTensor.clone().detach().requires_grad_(True), rather than torch.tensor(sourceTensor).\n",
            "  \"next_state\": torch.tensor(next_state, dtype=torch.float32),\n"
          ]
        },
        {
          "output_type": "stream",
          "name": "stdout",
          "text": [
            "episode:0, loss:1.9031785726547241, -0.07129579037427902, reward: -8.870711326599121, cnt: 1000\n",
            "episode:0, loss:0.9599330425262451, -0.036775585263967514, reward: -8.245779991149902, cnt: 2000\n",
            "episode:0, loss:0.9345129132270813, -0.03580574318766594, reward: -8.033823013305664, cnt: 2055\n",
            "episode:1, loss:0.5746482014656067, -0.00010452100832480937, reward: -10.097601890563965, cnt: 1000\n",
            "episode:1, loss:0.3098253607749939, -0.0014420549850910902, reward: -9.32136058807373, cnt: 2000\n",
            "episode:1, loss:0.22016817331314087, -0.002095542848110199, reward: -7.076649188995361, cnt: 3000\n",
            "episode:1, loss:0.1799168586730957, -0.002274709055200219, reward: -6.015114784240723, cnt: 4000\n",
            "episode:1, loss:0.15728221833705902, -0.0023121226113289595, reward: -5.311939239501953, cnt: 5000\n",
            "episode:1, loss:0.13602642714977264, -0.00249915337190032, reward: -4.821650505065918, cnt: 6000\n",
            "episode:1, loss:0.12099739164113998, -0.0024375817738473415, reward: -4.483962059020996, cnt: 7000\n",
            "episode:1, loss:0.11304721981287003, -0.002412037691101432, reward: -4.239432334899902, cnt: 7677\n",
            "episode:2, loss:0.03885607793927193, -0.002294979989528656, reward: -5.056643486022949, cnt: 1000\n",
            "episode:2, loss:0.04738729074597359, -0.00246859691105783, reward: -3.548607110977173, cnt: 2000\n",
            "episode:2, loss:0.042164646089076996, -0.002498794812709093, reward: -3.3256382942199707, cnt: 3000\n",
            "episode:2, loss:0.039797648787498474, -0.0024103594478219748, reward: -3.2565062046051025, cnt: 4000\n",
            "episode:2, loss:0.04446592554450035, -0.0022366915363818407, reward: -3.2699954509735107, cnt: 5000\n",
            "episode:2, loss:0.043583955615758896, -0.001993403537198901, reward: -3.054281234741211, cnt: 6000\n",
            "episode:2, loss:0.04220253974199295, -0.0018390719778835773, reward: -2.8701460361480713, cnt: 7000\n",
            "episode:2, loss:0.041225384920835495, -0.0017443388933315873, reward: -2.871614694595337, cnt: 8000\n",
            "episode:2, loss:0.04224362596869469, -0.0017097744857892394, reward: -2.7717785835266113, cnt: 8210\n",
            "episode:3, loss:0.3892855644226074, -0.0007920383359305561, reward: -9.65710735321045, cnt: 1000\n",
            "episode:3, loss:0.23676519095897675, -0.0003909746010322124, reward: -9.591264724731445, cnt: 2000\n",
            "episode:3, loss:0.18527771532535553, -0.00026995170628651977, reward: -8.905887603759766, cnt: 3000\n",
            "episode:3, loss:0.162221759557724, -0.00020387490803841501, reward: -8.385099411010742, cnt: 4000\n",
            "episode:3, loss:0.14513075351715088, -0.0001667938631726429, reward: -7.71268367767334, cnt: 4941\n",
            "episode:4, loss:0.05560683459043503, -0.0003591403947211802, reward: -8.563335418701172, cnt: 1000\n",
            "episode:4, loss:0.08939362317323685, -0.0006997059099376202, reward: -4.8008270263671875, cnt: 2000\n",
            "episode:4, loss:0.08124463260173798, -0.0005636049900203943, reward: -4.064190864562988, cnt: 3000\n",
            "episode:4, loss:0.08162322640419006, -0.0007713758968748152, reward: -3.5181312561035156, cnt: 4000\n",
            "episode:4, loss:0.08131737262010574, -0.0007529734284617007, reward: -3.301788091659546, cnt: 4658\n",
            "episode:5, loss:0.4244450330734253, -0.0018641105853021145, reward: -2.639178514480591, cnt: 1000\n",
            "episode:5, loss:0.2759300172328949, -0.002004798734560609, reward: -2.5230324268341064, cnt: 2000\n",
            "episode:5, loss:0.23127731680870056, -0.00176916248165071, reward: -2.273742914199829, cnt: 3000\n",
            "episode:5, loss:0.21516361832618713, -0.0015390501357614994, reward: -2.1470115184783936, cnt: 4000\n",
            "episode:5, loss:0.20116059482097626, -0.001408372656442225, reward: -2.1091742515563965, cnt: 5000\n",
            "episode:5, loss:0.20914597809314728, -0.0013201000401750207, reward: -2.0289242267608643, cnt: 6000\n",
            "episode:5, loss:0.2168629765510559, -0.0013019457692280412, reward: -2.0157480239868164, cnt: 6345\n",
            "episode:6, loss:0.23211941123008728, -0.0007293791859410703, reward: -9.098869323730469, cnt: 1000\n",
            "episode:6, loss:0.22526103258132935, -0.000680264609400183, reward: -5.985774040222168, cnt: 1669\n",
            "episode:7, loss:0.702136754989624, -0.00030981277814134955, reward: -10.32375431060791, cnt: 1000\n",
            "episode:7, loss:0.514879584312439, -0.00016774745017755777, reward: -10.300980567932129, cnt: 2000\n",
            "episode:7, loss:0.441794216632843, -0.00012299018271733075, reward: -10.107891082763672, cnt: 3000\n",
            "episode:7, loss:0.3832271099090576, -9.825397137319669e-05, reward: -9.35605525970459, cnt: 3807\n",
            "episode:8, loss:0.30280762910842896, -3.5319179005455226e-05, reward: -9.838373184204102, cnt: 1000\n",
            "episode:8, loss:0.22870753705501556, 0.00018794195784721524, reward: -8.193326950073242, cnt: 2000\n",
            "episode:8, loss:0.21150754392147064, 6.210788706084713e-05, reward: -6.19959831237793, cnt: 2829\n",
            "episode:9, loss:0.7832900285720825, -0.002267200266942382, reward: -7.643307685852051, cnt: 1000\n",
            "episode:9, loss:0.5722150206565857, -0.0015851508360356092, reward: -4.78847074508667, cnt: 2000\n",
            "episode:9, loss:0.5231903791427612, -0.001498882775194943, reward: -4.281777858734131, cnt: 2275\n",
            "episode:10, loss:0.29321005940437317, -0.0009885921608656645, reward: -9.606878280639648, cnt: 1000\n",
            "episode:10, loss:0.2803812026977539, -0.000665228464640677, reward: -9.517049789428711, cnt: 2000\n",
            "episode:10, loss:0.31904372572898865, -0.00046255020424723625, reward: -7.981126308441162, cnt: 3000\n",
            "episode:10, loss:0.3127546012401581, -0.0005534090450964868, reward: -7.138912200927734, cnt: 3457\n",
            "episode:11, loss:0.9419440627098083, -0.0013650961918756366, reward: -2.7727816104888916, cnt: 707\n",
            "episode:12, loss:0.8731368184089661, -4.155318674747832e-05, reward: -3.8239612579345703, cnt: 1000\n",
            "episode:12, loss:0.8398390412330627, -0.00011602461017901078, reward: -3.5296599864959717, cnt: 1074\n",
            "episode:13, loss:1.083104133605957, -0.001150173251517117, reward: -3.9417691230773926, cnt: 453\n",
            "episode:14, loss:1.2318726778030396, -0.0005196038400754333, reward: -7.401449203491211, cnt: 716\n",
            "episode:15, loss:1.1829979419708252, -6.568601384060457e-05, reward: -7.417771339416504, cnt: 1000\n",
            "episode:15, loss:1.0397406816482544, -0.0002123903250321746, reward: -4.852550506591797, cnt: 1666\n",
            "episode:16, loss:1.1284148693084717, -0.0012228721752762794, reward: -6.25633430480957, cnt: 705\n",
            "episode:17, loss:2.0766711235046387, -0.0005111977225169539, reward: -3.67647123336792, cnt: 336\n",
            "episode:18, loss:1.6035313606262207, -0.0014782476937398314, reward: -6.907238960266113, cnt: 595\n",
            "episode:19, loss:2.507307767868042, -0.0004589596064761281, reward: -4.504790782928467, cnt: 383\n",
            "episode:20, loss:1.7476497888565063, -0.00042402552207931876, reward: -4.9401445388793945, cnt: 379\n",
            "episode:21, loss:2.3388125896453857, -0.0010128935100510716, reward: -9.480822563171387, cnt: 1000\n",
            "episode:21, loss:2.3915040493011475, -0.0007173582562245429, reward: -9.483600616455078, cnt: 2000\n",
            "episode:21, loss:2.2508349418640137, -0.0007565762498416007, reward: -8.67227554321289, cnt: 2893\n",
            "episode:22, loss:1.8885273933410645, -0.00042926723835989833, reward: -7.3036346435546875, cnt: 627\n",
            "episode:23, loss:2.9851553440093994, -0.0009073622641153634, reward: -6.43531608581543, cnt: 399\n",
            "episode:24, loss:1.378312110900879, -5.914330540690571e-05, reward: -6.249419212341309, cnt: 660\n",
            "episode:25, loss:2.7856600284576416, -0.0008566609467379749, reward: -4.7681708335876465, cnt: 227\n",
            "episode:26, loss:1.6831915378570557, -0.0006877864361740649, reward: -9.501704216003418, cnt: 1000\n",
            "episode:26, loss:1.5310587882995605, -0.0006892179953865707, reward: -8.681486129760742, cnt: 1130\n",
            "episode:27, loss:1.9682884216308594, -0.001353710307739675, reward: -4.581607818603516, cnt: 234\n",
            "episode:28, loss:1.1511013507843018, -0.0006016113329678774, reward: -9.642935752868652, cnt: 1000\n",
            "episode:28, loss:1.4239205121994019, -0.0006189841660670936, reward: -8.703819274902344, cnt: 1926\n",
            "episode:29, loss:1.7145917415618896, -0.0003565820516087115, reward: -3.9112548828125, cnt: 453\n",
            "episode:30, loss:0.6004128456115723, 0.0004181185504421592, reward: -4.791839122772217, cnt: 246\n",
            "episode:31, loss:2.4439094066619873, -0.0008783371304161847, reward: -8.403743743896484, cnt: 660\n",
            "episode:32, loss:1.604819655418396, -0.0006771870539523661, reward: -9.650238037109375, cnt: 1000\n",
            "episode:32, loss:1.779728889465332, -0.0008657742291688919, reward: -9.615760803222656, cnt: 2000\n",
            "episode:32, loss:1.7866227626800537, -0.0009468123316764832, reward: -8.914319038391113, cnt: 2381\n",
            "episode:33, loss:1.1640443801879883, -0.00015705276746302843, reward: -7.8491997718811035, cnt: 526\n",
            "episode:34, loss:2.179349899291992, -0.0004875585436820984, reward: -9.53880786895752, cnt: 1000\n",
            "episode:34, loss:2.0741124153137207, -0.00036988939973525703, reward: -9.51285457611084, cnt: 2000\n",
            "episode:34, loss:2.083437204360962, -0.00040062234620563686, reward: -9.09386920928955, cnt: 2725\n",
            "episode:35, loss:1.2555792331695557, 0.00019649873138405383, reward: -4.765012741088867, cnt: 247\n",
            "episode:36, loss:1.7238115072250366, 0.0004416351730469614, reward: -6.788424491882324, cnt: 342\n",
            "episode:37, loss:1.551720380783081, -0.0003811132628470659, reward: -7.572092533111572, cnt: 492\n",
            "episode:38, loss:1.0569204092025757, -0.0001588034356245771, reward: -4.597644329071045, cnt: 262\n",
            "episode:39, loss:3.2874531745910645, -0.0029155451338738203, reward: -5.378676891326904, cnt: 196\n",
            "episode:40, loss:1.0108952522277832, -0.0012771616457030177, reward: -6.0248613357543945, cnt: 333\n",
            "episode:41, loss:2.603797674179077, -0.0008607751806266606, reward: -4.079619407653809, cnt: 265\n",
            "episode:42, loss:3.328761100769043, -0.000171476902323775, reward: -5.629825115203857, cnt: 196\n",
            "episode:43, loss:1.7628470659255981, 0.0002757202018983662, reward: -8.180036544799805, cnt: 490\n",
            "episode:44, loss:2.711789131164551, -0.0007088557467795908, reward: -4.662708282470703, cnt: 214\n"
          ]
        },
        {
          "output_type": "error",
          "ename": "KeyboardInterrupt",
          "evalue": "",
          "traceback": [
            "\u001b[0;31m---------------------------------------------------------------------------\u001b[0m",
            "\u001b[0;31mKeyboardInterrupt\u001b[0m                         Traceback (most recent call last)",
            "\u001b[0;32m<ipython-input-90-bbea2d6225b1>\u001b[0m in \u001b[0;36m<cell line: 11>\u001b[0;34m()\u001b[0m\n\u001b[1;32m     26\u001b[0m         \u001b[0mU\u001b[0m \u001b[0;34m=\u001b[0m \u001b[0mm\u001b[0m \u001b[0;34m*\u001b[0m \u001b[0mg\u001b[0m \u001b[0;34m*\u001b[0m \u001b[0my\u001b[0m\u001b[0;34m\u001b[0m\u001b[0;34m\u001b[0m\u001b[0m\n\u001b[1;32m     27\u001b[0m         \u001b[0mreward\u001b[0m \u001b[0;34m=\u001b[0m \u001b[0mreward\u001b[0m \u001b[0;34m+\u001b[0m \u001b[0mE\u001b[0m \u001b[0;34m+\u001b[0m \u001b[0mU\u001b[0m\u001b[0;34m\u001b[0m\u001b[0;34m\u001b[0m\u001b[0m\n\u001b[0;32m---> 28\u001b[0;31m         loss_q, loss_pi = agent.update(\n\u001b[0m\u001b[1;32m     29\u001b[0m             \u001b[0mstate\u001b[0m \u001b[0;34m=\u001b[0m \u001b[0mstate\u001b[0m\u001b[0;34m,\u001b[0m\u001b[0;34m\u001b[0m\u001b[0;34m\u001b[0m\u001b[0m\n\u001b[1;32m     30\u001b[0m             \u001b[0maction\u001b[0m \u001b[0;34m=\u001b[0m \u001b[0maction\u001b[0m\u001b[0;34m,\u001b[0m\u001b[0;34m\u001b[0m\u001b[0;34m\u001b[0m\u001b[0m\n",
            "\u001b[0;32m<ipython-input-87-99c1a2d692d7>\u001b[0m in \u001b[0;36mupdate\u001b[0;34m(self, state, action, reward, next_state, done, action_prob)\u001b[0m\n\u001b[1;32m     66\u001b[0m     \u001b[0;32mif\u001b[0m \u001b[0mlen\u001b[0m\u001b[0;34m(\u001b[0m\u001b[0mself\u001b[0m\u001b[0;34m.\u001b[0m\u001b[0mreplay_buffer\u001b[0m\u001b[0;34m)\u001b[0m \u001b[0;34m<\u001b[0m \u001b[0mself\u001b[0m\u001b[0;34m.\u001b[0m\u001b[0mbatch_size\u001b[0m\u001b[0;34m:\u001b[0m\u001b[0;34m\u001b[0m\u001b[0;34m\u001b[0m\u001b[0m\n\u001b[1;32m     67\u001b[0m       \u001b[0;32mreturn\u001b[0m \u001b[0;36m0\u001b[0m\u001b[0;34m,\u001b[0m \u001b[0;36m0\u001b[0m\u001b[0;34m\u001b[0m\u001b[0;34m\u001b[0m\u001b[0m\n\u001b[0;32m---> 68\u001b[0;31m     \u001b[0mstate_batch\u001b[0m\u001b[0;34m,\u001b[0m \u001b[0maction_batch\u001b[0m\u001b[0;34m,\u001b[0m \u001b[0mreward_batch\u001b[0m\u001b[0;34m,\u001b[0m \u001b[0mnext_state_batch\u001b[0m\u001b[0;34m,\u001b[0m \u001b[0mdone_batch\u001b[0m\u001b[0;34m,\u001b[0m \u001b[0maction_prob_batch\u001b[0m \u001b[0;34m=\u001b[0m \u001b[0mself\u001b[0m\u001b[0;34m.\u001b[0m\u001b[0mreplay_buffer\u001b[0m\u001b[0;34m.\u001b[0m\u001b[0msample\u001b[0m\u001b[0;34m(\u001b[0m\u001b[0minclude_info\u001b[0m\u001b[0;34m=\u001b[0m\u001b[0;32mFalse\u001b[0m\u001b[0;34m)\u001b[0m\u001b[0;34m\u001b[0m\u001b[0;34m\u001b[0m\u001b[0m\n\u001b[0m\u001b[1;32m     69\u001b[0m     \u001b[0;31m#print(    state_batch.shape, action_batch.shape, reward_batch.shape, next_state_batch.shape, done_batch.shape, action_prob_batch.shape)\u001b[0m\u001b[0;34m\u001b[0m\u001b[0;34m\u001b[0m\u001b[0m\n\u001b[1;32m     70\u001b[0m \u001b[0;34m\u001b[0m\u001b[0m\n",
            "\u001b[0;32m<ipython-input-82-429c7478a1ee>\u001b[0m in \u001b[0;36msample\u001b[0;34m(self, include_info)\u001b[0m\n\u001b[1;32m      5\u001b[0m       \u001b[0mstate\u001b[0m \u001b[0;34m=\u001b[0m \u001b[0mtorch\u001b[0m\u001b[0;34m.\u001b[0m\u001b[0mstack\u001b[0m\u001b[0;34m(\u001b[0m\u001b[0;34m[\u001b[0m\u001b[0mx\u001b[0m\u001b[0;34m[\u001b[0m\u001b[0;34m\"state\"\u001b[0m\u001b[0;34m]\u001b[0m\u001b[0;34m[\u001b[0m\u001b[0;36m0\u001b[0m\u001b[0;34m]\u001b[0m \u001b[0;32mfor\u001b[0m \u001b[0mx\u001b[0m \u001b[0;32min\u001b[0m \u001b[0mdata\u001b[0m\u001b[0;34m]\u001b[0m\u001b[0;34m)\u001b[0m\u001b[0;34m\u001b[0m\u001b[0;34m\u001b[0m\u001b[0m\n\u001b[1;32m      6\u001b[0m       \u001b[0maction\u001b[0m \u001b[0;34m=\u001b[0m \u001b[0mtorch\u001b[0m\u001b[0;34m.\u001b[0m\u001b[0mtensor\u001b[0m\u001b[0;34m(\u001b[0m\u001b[0;34m[\u001b[0m\u001b[0mx\u001b[0m\u001b[0;34m[\u001b[0m\u001b[0;34m\"action\"\u001b[0m\u001b[0;34m]\u001b[0m \u001b[0;32mfor\u001b[0m \u001b[0mx\u001b[0m \u001b[0;32min\u001b[0m \u001b[0mdata\u001b[0m\u001b[0;34m]\u001b[0m\u001b[0;34m)\u001b[0m\u001b[0;34m\u001b[0m\u001b[0;34m\u001b[0m\u001b[0m\n\u001b[0;32m----> 7\u001b[0;31m       \u001b[0mreward\u001b[0m \u001b[0;34m=\u001b[0m \u001b[0mtorch\u001b[0m\u001b[0;34m.\u001b[0m\u001b[0mtensor\u001b[0m\u001b[0;34m(\u001b[0m\u001b[0;34m[\u001b[0m\u001b[0mx\u001b[0m\u001b[0;34m[\u001b[0m\u001b[0;34m\"reward\"\u001b[0m\u001b[0;34m]\u001b[0m \u001b[0;32mfor\u001b[0m \u001b[0mx\u001b[0m \u001b[0;32min\u001b[0m \u001b[0mdata\u001b[0m\u001b[0;34m]\u001b[0m\u001b[0;34m)\u001b[0m\u001b[0;34m\u001b[0m\u001b[0;34m\u001b[0m\u001b[0m\n\u001b[0m\u001b[1;32m      8\u001b[0m       \u001b[0mnext_state\u001b[0m \u001b[0;34m=\u001b[0m \u001b[0mtorch\u001b[0m\u001b[0;34m.\u001b[0m\u001b[0mstack\u001b[0m\u001b[0;34m(\u001b[0m\u001b[0;34m[\u001b[0m\u001b[0mx\u001b[0m\u001b[0;34m[\u001b[0m\u001b[0;34m\"next_state\"\u001b[0m\u001b[0;34m]\u001b[0m\u001b[0;34m[\u001b[0m\u001b[0;36m0\u001b[0m\u001b[0;34m]\u001b[0m \u001b[0;32mfor\u001b[0m \u001b[0mx\u001b[0m \u001b[0;32min\u001b[0m \u001b[0mdata\u001b[0m\u001b[0;34m]\u001b[0m\u001b[0;34m)\u001b[0m\u001b[0;34m\u001b[0m\u001b[0;34m\u001b[0m\u001b[0m\n\u001b[1;32m      9\u001b[0m       \u001b[0mdone\u001b[0m \u001b[0;34m=\u001b[0m \u001b[0mtorch\u001b[0m\u001b[0;34m.\u001b[0m\u001b[0mtensor\u001b[0m\u001b[0;34m(\u001b[0m\u001b[0;34m[\u001b[0m\u001b[0mx\u001b[0m\u001b[0;34m[\u001b[0m\u001b[0;34m\"done\"\u001b[0m\u001b[0;34m]\u001b[0m \u001b[0;32mfor\u001b[0m \u001b[0mx\u001b[0m \u001b[0;32min\u001b[0m \u001b[0mdata\u001b[0m\u001b[0;34m]\u001b[0m\u001b[0;34m,\u001b[0m \u001b[0mdtype\u001b[0m \u001b[0;34m=\u001b[0m \u001b[0mtorch\u001b[0m\u001b[0;34m.\u001b[0m\u001b[0mint32\u001b[0m\u001b[0;34m)\u001b[0m\u001b[0;34m\u001b[0m\u001b[0;34m\u001b[0m\u001b[0m\n",
            "\u001b[0;31mKeyboardInterrupt\u001b[0m: "
          ]
        }
      ]
    },
    {
      "cell_type": "code",
      "source": [
        "plt.plot(range(episodes),[x.cpu().detach().numpy() for x in loss_history])"
      ],
      "metadata": {
        "id": "7XruQ1fbFx8m",
        "colab": {
          "base_uri": "https://localhost:8080/",
          "height": 722
        },
        "outputId": "67b9e13e-d118-4da7-c761-0cd59783f9c2"
      },
      "execution_count": 91,
      "outputs": [
        {
          "output_type": "error",
          "ename": "ValueError",
          "evalue": "x and y must have same first dimension, but have shapes (1000,) and (45,)",
          "traceback": [
            "\u001b[0;31m---------------------------------------------------------------------------\u001b[0m",
            "\u001b[0;31mValueError\u001b[0m                                Traceback (most recent call last)",
            "\u001b[0;32m<ipython-input-91-c454fe0f5e0a>\u001b[0m in \u001b[0;36m<cell line: 1>\u001b[0;34m()\u001b[0m\n\u001b[0;32m----> 1\u001b[0;31m \u001b[0mplt\u001b[0m\u001b[0;34m.\u001b[0m\u001b[0mplot\u001b[0m\u001b[0;34m(\u001b[0m\u001b[0mrange\u001b[0m\u001b[0;34m(\u001b[0m\u001b[0mepisodes\u001b[0m\u001b[0;34m)\u001b[0m\u001b[0;34m,\u001b[0m\u001b[0;34m[\u001b[0m\u001b[0mx\u001b[0m\u001b[0;34m.\u001b[0m\u001b[0mcpu\u001b[0m\u001b[0;34m(\u001b[0m\u001b[0;34m)\u001b[0m\u001b[0;34m.\u001b[0m\u001b[0mdetach\u001b[0m\u001b[0;34m(\u001b[0m\u001b[0;34m)\u001b[0m\u001b[0;34m.\u001b[0m\u001b[0mnumpy\u001b[0m\u001b[0;34m(\u001b[0m\u001b[0;34m)\u001b[0m \u001b[0;32mfor\u001b[0m \u001b[0mx\u001b[0m \u001b[0;32min\u001b[0m \u001b[0mloss_history\u001b[0m\u001b[0;34m]\u001b[0m\u001b[0;34m)\u001b[0m\u001b[0;34m\u001b[0m\u001b[0;34m\u001b[0m\u001b[0m\n\u001b[0m",
            "\u001b[0;32m/usr/local/lib/python3.10/dist-packages/matplotlib/pyplot.py\u001b[0m in \u001b[0;36mplot\u001b[0;34m(scalex, scaley, data, *args, **kwargs)\u001b[0m\n\u001b[1;32m   3576\u001b[0m     \u001b[0;34m**\u001b[0m\u001b[0mkwargs\u001b[0m\u001b[0;34m,\u001b[0m\u001b[0;34m\u001b[0m\u001b[0;34m\u001b[0m\u001b[0m\n\u001b[1;32m   3577\u001b[0m ) -> list[Line2D]:\n\u001b[0;32m-> 3578\u001b[0;31m     return gca().plot(\n\u001b[0m\u001b[1;32m   3579\u001b[0m         \u001b[0;34m*\u001b[0m\u001b[0margs\u001b[0m\u001b[0;34m,\u001b[0m\u001b[0;34m\u001b[0m\u001b[0;34m\u001b[0m\u001b[0m\n\u001b[1;32m   3580\u001b[0m         \u001b[0mscalex\u001b[0m\u001b[0;34m=\u001b[0m\u001b[0mscalex\u001b[0m\u001b[0;34m,\u001b[0m\u001b[0;34m\u001b[0m\u001b[0;34m\u001b[0m\u001b[0m\n",
            "\u001b[0;32m/usr/local/lib/python3.10/dist-packages/matplotlib/axes/_axes.py\u001b[0m in \u001b[0;36mplot\u001b[0;34m(self, scalex, scaley, data, *args, **kwargs)\u001b[0m\n\u001b[1;32m   1719\u001b[0m         \"\"\"\n\u001b[1;32m   1720\u001b[0m         \u001b[0mkwargs\u001b[0m \u001b[0;34m=\u001b[0m \u001b[0mcbook\u001b[0m\u001b[0;34m.\u001b[0m\u001b[0mnormalize_kwargs\u001b[0m\u001b[0;34m(\u001b[0m\u001b[0mkwargs\u001b[0m\u001b[0;34m,\u001b[0m \u001b[0mmlines\u001b[0m\u001b[0;34m.\u001b[0m\u001b[0mLine2D\u001b[0m\u001b[0;34m)\u001b[0m\u001b[0;34m\u001b[0m\u001b[0;34m\u001b[0m\u001b[0m\n\u001b[0;32m-> 1721\u001b[0;31m         \u001b[0mlines\u001b[0m \u001b[0;34m=\u001b[0m \u001b[0;34m[\u001b[0m\u001b[0;34m*\u001b[0m\u001b[0mself\u001b[0m\u001b[0;34m.\u001b[0m\u001b[0m_get_lines\u001b[0m\u001b[0;34m(\u001b[0m\u001b[0mself\u001b[0m\u001b[0;34m,\u001b[0m \u001b[0;34m*\u001b[0m\u001b[0margs\u001b[0m\u001b[0;34m,\u001b[0m \u001b[0mdata\u001b[0m\u001b[0;34m=\u001b[0m\u001b[0mdata\u001b[0m\u001b[0;34m,\u001b[0m \u001b[0;34m**\u001b[0m\u001b[0mkwargs\u001b[0m\u001b[0;34m)\u001b[0m\u001b[0;34m]\u001b[0m\u001b[0;34m\u001b[0m\u001b[0;34m\u001b[0m\u001b[0m\n\u001b[0m\u001b[1;32m   1722\u001b[0m         \u001b[0;32mfor\u001b[0m \u001b[0mline\u001b[0m \u001b[0;32min\u001b[0m \u001b[0mlines\u001b[0m\u001b[0;34m:\u001b[0m\u001b[0;34m\u001b[0m\u001b[0;34m\u001b[0m\u001b[0m\n\u001b[1;32m   1723\u001b[0m             \u001b[0mself\u001b[0m\u001b[0;34m.\u001b[0m\u001b[0madd_line\u001b[0m\u001b[0;34m(\u001b[0m\u001b[0mline\u001b[0m\u001b[0;34m)\u001b[0m\u001b[0;34m\u001b[0m\u001b[0;34m\u001b[0m\u001b[0m\n",
            "\u001b[0;32m/usr/local/lib/python3.10/dist-packages/matplotlib/axes/_base.py\u001b[0m in \u001b[0;36m__call__\u001b[0;34m(self, axes, data, *args, **kwargs)\u001b[0m\n\u001b[1;32m    301\u001b[0m                 \u001b[0mthis\u001b[0m \u001b[0;34m+=\u001b[0m \u001b[0margs\u001b[0m\u001b[0;34m[\u001b[0m\u001b[0;36m0\u001b[0m\u001b[0;34m]\u001b[0m\u001b[0;34m,\u001b[0m\u001b[0;34m\u001b[0m\u001b[0;34m\u001b[0m\u001b[0m\n\u001b[1;32m    302\u001b[0m                 \u001b[0margs\u001b[0m \u001b[0;34m=\u001b[0m \u001b[0margs\u001b[0m\u001b[0;34m[\u001b[0m\u001b[0;36m1\u001b[0m\u001b[0;34m:\u001b[0m\u001b[0;34m]\u001b[0m\u001b[0;34m\u001b[0m\u001b[0;34m\u001b[0m\u001b[0m\n\u001b[0;32m--> 303\u001b[0;31m             yield from self._plot_args(\n\u001b[0m\u001b[1;32m    304\u001b[0m                 axes, this, kwargs, ambiguous_fmt_datakey=ambiguous_fmt_datakey)\n\u001b[1;32m    305\u001b[0m \u001b[0;34m\u001b[0m\u001b[0m\n",
            "\u001b[0;32m/usr/local/lib/python3.10/dist-packages/matplotlib/axes/_base.py\u001b[0m in \u001b[0;36m_plot_args\u001b[0;34m(self, axes, tup, kwargs, return_kwargs, ambiguous_fmt_datakey)\u001b[0m\n\u001b[1;32m    497\u001b[0m \u001b[0;34m\u001b[0m\u001b[0m\n\u001b[1;32m    498\u001b[0m         \u001b[0;32mif\u001b[0m \u001b[0mx\u001b[0m\u001b[0;34m.\u001b[0m\u001b[0mshape\u001b[0m\u001b[0;34m[\u001b[0m\u001b[0;36m0\u001b[0m\u001b[0;34m]\u001b[0m \u001b[0;34m!=\u001b[0m \u001b[0my\u001b[0m\u001b[0;34m.\u001b[0m\u001b[0mshape\u001b[0m\u001b[0;34m[\u001b[0m\u001b[0;36m0\u001b[0m\u001b[0;34m]\u001b[0m\u001b[0;34m:\u001b[0m\u001b[0;34m\u001b[0m\u001b[0;34m\u001b[0m\u001b[0m\n\u001b[0;32m--> 499\u001b[0;31m             raise ValueError(f\"x and y must have same first dimension, but \"\n\u001b[0m\u001b[1;32m    500\u001b[0m                              f\"have shapes {x.shape} and {y.shape}\")\n\u001b[1;32m    501\u001b[0m         \u001b[0;32mif\u001b[0m \u001b[0mx\u001b[0m\u001b[0;34m.\u001b[0m\u001b[0mndim\u001b[0m \u001b[0;34m>\u001b[0m \u001b[0;36m2\u001b[0m \u001b[0;32mor\u001b[0m \u001b[0my\u001b[0m\u001b[0;34m.\u001b[0m\u001b[0mndim\u001b[0m \u001b[0;34m>\u001b[0m \u001b[0;36m2\u001b[0m\u001b[0;34m:\u001b[0m\u001b[0;34m\u001b[0m\u001b[0;34m\u001b[0m\u001b[0m\n",
            "\u001b[0;31mValueError\u001b[0m: x and y must have same first dimension, but have shapes (1000,) and (45,)"
          ]
        },
        {
          "output_type": "display_data",
          "data": {
            "text/plain": [
              "<Figure size 640x480 with 1 Axes>"
            ],
            "image/png": "[encoded data removed]"
          },
          "metadata": {}
        }
      ]
    },
    {
      "cell_type": "code",
      "source": [
        "plt.plot(range(episodes),[x.cpu().detach().numpy() for x in reward_history])"
      ],
      "metadata": {
        "colab": {
          "base_uri": "https://localhost:8080/",
          "height": 722
        },
        "id": "ggzP1j9Ycj3X",
        "outputId": "a6d82308-697a-4c88-f1f0-def4817efc78"
      },
      "execution_count": 92,
      "outputs": [
        {
          "output_type": "error",
          "ename": "ValueError",
          "evalue": "x and y must have same first dimension, but have shapes (1000,) and (45,)",
          "traceback": [
            "\u001b[0;31m---------------------------------------------------------------------------\u001b[0m",
            "\u001b[0;31mValueError\u001b[0m                                Traceback (most recent call last)",
            "\u001b[0;32m<ipython-input-92-8682889d92ad>\u001b[0m in \u001b[0;36m<cell line: 1>\u001b[0;34m()\u001b[0m\n\u001b[0;32m----> 1\u001b[0;31m \u001b[0mplt\u001b[0m\u001b[0;34m.\u001b[0m\u001b[0mplot\u001b[0m\u001b[0;34m(\u001b[0m\u001b[0mrange\u001b[0m\u001b[0;34m(\u001b[0m\u001b[0mepisodes\u001b[0m\u001b[0;34m)\u001b[0m\u001b[0;34m,\u001b[0m\u001b[0;34m[\u001b[0m\u001b[0mx\u001b[0m\u001b[0;34m.\u001b[0m\u001b[0mcpu\u001b[0m\u001b[0;34m(\u001b[0m\u001b[0;34m)\u001b[0m\u001b[0;34m.\u001b[0m\u001b[0mdetach\u001b[0m\u001b[0;34m(\u001b[0m\u001b[0;34m)\u001b[0m\u001b[0;34m.\u001b[0m\u001b[0mnumpy\u001b[0m\u001b[0;34m(\u001b[0m\u001b[0;34m)\u001b[0m \u001b[0;32mfor\u001b[0m \u001b[0mx\u001b[0m \u001b[0;32min\u001b[0m \u001b[0mreward_history\u001b[0m\u001b[0;34m]\u001b[0m\u001b[0;34m)\u001b[0m\u001b[0;34m\u001b[0m\u001b[0;34m\u001b[0m\u001b[0m\n\u001b[0m",
            "\u001b[0;32m/usr/local/lib/python3.10/dist-packages/matplotlib/pyplot.py\u001b[0m in \u001b[0;36mplot\u001b[0;34m(scalex, scaley, data, *args, **kwargs)\u001b[0m\n\u001b[1;32m   3576\u001b[0m     \u001b[0;34m**\u001b[0m\u001b[0mkwargs\u001b[0m\u001b[0;34m,\u001b[0m\u001b[0;34m\u001b[0m\u001b[0;34m\u001b[0m\u001b[0m\n\u001b[1;32m   3577\u001b[0m ) -> list[Line2D]:\n\u001b[0;32m-> 3578\u001b[0;31m     return gca().plot(\n\u001b[0m\u001b[1;32m   3579\u001b[0m         \u001b[0;34m*\u001b[0m\u001b[0margs\u001b[0m\u001b[0;34m,\u001b[0m\u001b[0;34m\u001b[0m\u001b[0;34m\u001b[0m\u001b[0m\n\u001b[1;32m   3580\u001b[0m         \u001b[0mscalex\u001b[0m\u001b[0;34m=\u001b[0m\u001b[0mscalex\u001b[0m\u001b[0;34m,\u001b[0m\u001b[0;34m\u001b[0m\u001b[0;34m\u001b[0m\u001b[0m\n",
            "\u001b[0;32m/usr/local/lib/python3.10/dist-packages/matplotlib/axes/_axes.py\u001b[0m in \u001b[0;36mplot\u001b[0;34m(self, scalex, scaley, data, *args, **kwargs)\u001b[0m\n\u001b[1;32m   1719\u001b[0m         \"\"\"\n\u001b[1;32m   1720\u001b[0m         \u001b[0mkwargs\u001b[0m \u001b[0;34m=\u001b[0m \u001b[0mcbook\u001b[0m\u001b[0;34m.\u001b[0m\u001b[0mnormalize_kwargs\u001b[0m\u001b[0;34m(\u001b[0m\u001b[0mkwargs\u001b[0m\u001b[0;34m,\u001b[0m \u001b[0mmlines\u001b[0m\u001b[0;34m.\u001b[0m\u001b[0mLine2D\u001b[0m\u001b[0;34m)\u001b[0m\u001b[0;34m\u001b[0m\u001b[0;34m\u001b[0m\u001b[0m\n\u001b[0;32m-> 1721\u001b[0;31m         \u001b[0mlines\u001b[0m \u001b[0;34m=\u001b[0m \u001b[0;34m[\u001b[0m\u001b[0;34m*\u001b[0m\u001b[0mself\u001b[0m\u001b[0;34m.\u001b[0m\u001b[0m_get_lines\u001b[0m\u001b[0;34m(\u001b[0m\u001b[0mself\u001b[0m\u001b[0;34m,\u001b[0m \u001b[0;34m*\u001b[0m\u001b[0margs\u001b[0m\u001b[0;34m,\u001b[0m \u001b[0mdata\u001b[0m\u001b[0;34m=\u001b[0m\u001b[0mdata\u001b[0m\u001b[0;34m,\u001b[0m \u001b[0;34m**\u001b[0m\u001b[0mkwargs\u001b[0m\u001b[0;34m)\u001b[0m\u001b[0;34m]\u001b[0m\u001b[0;34m\u001b[0m\u001b[0;34m\u001b[0m\u001b[0m\n\u001b[0m\u001b[1;32m   1722\u001b[0m         \u001b[0;32mfor\u001b[0m \u001b[0mline\u001b[0m \u001b[0;32min\u001b[0m \u001b[0mlines\u001b[0m\u001b[0;34m:\u001b[0m\u001b[0;34m\u001b[0m\u001b[0;34m\u001b[0m\u001b[0m\n\u001b[1;32m   1723\u001b[0m             \u001b[0mself\u001b[0m\u001b[0;34m.\u001b[0m\u001b[0madd_line\u001b[0m\u001b[0;34m(\u001b[0m\u001b[0mline\u001b[0m\u001b[0;34m)\u001b[0m\u001b[0;34m\u001b[0m\u001b[0;34m\u001b[0m\u001b[0m\n",
            "\u001b[0;32m/usr/local/lib/python3.10/dist-packages/matplotlib/axes/_base.py\u001b[0m in \u001b[0;36m__call__\u001b[0;34m(self, axes, data, *args, **kwargs)\u001b[0m\n\u001b[1;32m    301\u001b[0m                 \u001b[0mthis\u001b[0m \u001b[0;34m+=\u001b[0m \u001b[0margs\u001b[0m\u001b[0;34m[\u001b[0m\u001b[0;36m0\u001b[0m\u001b[0;34m]\u001b[0m\u001b[0;34m,\u001b[0m\u001b[0;34m\u001b[0m\u001b[0;34m\u001b[0m\u001b[0m\n\u001b[1;32m    302\u001b[0m                 \u001b[0margs\u001b[0m \u001b[0;34m=\u001b[0m \u001b[0margs\u001b[0m\u001b[0;34m[\u001b[0m\u001b[0;36m1\u001b[0m\u001b[0;34m:\u001b[0m\u001b[0;34m]\u001b[0m\u001b[0;34m\u001b[0m\u001b[0;34m\u001b[0m\u001b[0m\n\u001b[0;32m--> 303\u001b[0;31m             yield from self._plot_args(\n\u001b[0m\u001b[1;32m    304\u001b[0m                 axes, this, kwargs, ambiguous_fmt_datakey=ambiguous_fmt_datakey)\n\u001b[1;32m    305\u001b[0m \u001b[0;34m\u001b[0m\u001b[0m\n",
            "\u001b[0;32m/usr/local/lib/python3.10/dist-packages/matplotlib/axes/_base.py\u001b[0m in \u001b[0;36m_plot_args\u001b[0;34m(self, axes, tup, kwargs, return_kwargs, ambiguous_fmt_datakey)\u001b[0m\n\u001b[1;32m    497\u001b[0m \u001b[0;34m\u001b[0m\u001b[0m\n\u001b[1;32m    498\u001b[0m         \u001b[0;32mif\u001b[0m \u001b[0mx\u001b[0m\u001b[0;34m.\u001b[0m\u001b[0mshape\u001b[0m\u001b[0;34m[\u001b[0m\u001b[0;36m0\u001b[0m\u001b[0;34m]\u001b[0m \u001b[0;34m!=\u001b[0m \u001b[0my\u001b[0m\u001b[0;34m.\u001b[0m\u001b[0mshape\u001b[0m\u001b[0;34m[\u001b[0m\u001b[0;36m0\u001b[0m\u001b[0;34m]\u001b[0m\u001b[0;34m:\u001b[0m\u001b[0;34m\u001b[0m\u001b[0;34m\u001b[0m\u001b[0m\n\u001b[0;32m--> 499\u001b[0;31m             raise ValueError(f\"x and y must have same first dimension, but \"\n\u001b[0m\u001b[1;32m    500\u001b[0m                              f\"have shapes {x.shape} and {y.shape}\")\n\u001b[1;32m    501\u001b[0m         \u001b[0;32mif\u001b[0m \u001b[0mx\u001b[0m\u001b[0;34m.\u001b[0m\u001b[0mndim\u001b[0m \u001b[0;34m>\u001b[0m \u001b[0;36m2\u001b[0m \u001b[0;32mor\u001b[0m \u001b[0my\u001b[0m\u001b[0;34m.\u001b[0m\u001b[0mndim\u001b[0m \u001b[0;34m>\u001b[0m \u001b[0;36m2\u001b[0m\u001b[0;34m:\u001b[0m\u001b[0;34m\u001b[0m\u001b[0;34m\u001b[0m\u001b[0m\n",
            "\u001b[0;31mValueError\u001b[0m: x and y must have same first dimension, but have shapes (1000,) and (45,)"
          ]
        },
        {
          "output_type": "display_data",
          "data": {
            "text/plain": [
              "<Figure size 640x480 with 1 Axes>"
            ],
            "image/png": "[encoded data removed]"
          },
          "metadata": {}
        }
      ]
    },
    {
      "cell_type": "markdown",
      "source": [
        "# play by agent"
      ],
      "metadata": {
        "id": "9px5hXtQGlEF"
      }
    },
    {
      "cell_type": "code",
      "source": [
        "import numpy as np\n",
        "\n",
        "env = gym.make(gym_name, render_mode=\"rgb_array\")\n",
        "env = gym.wrappers.RecordVideo(env, video_folder=\"./\", disable_logger=True)\n",
        "state, _ = env.reset()\n",
        "done = False\n",
        "renders = []\n",
        "play_time = 0\n",
        "\n",
        "while not done and play_time < 1000:\n",
        "    play_time += 1\n",
        "    state = torch.tensor(state, dtype=torch.float32).to(device)\n",
        "    #action = np.random.choice([0,1])\n",
        "    action, _ = agent.select_action(state, epsilon_greedy= False)\n",
        "    state, reward, done, truncation, info = env.step(action)\n",
        "    env.render()\n",
        "env.close()\n",
        "print(f\"play_time:{play_time}\")"
      ],
      "metadata": {
        "colab": {
          "base_uri": "https://localhost:8080/"
        },
        "id": "i2-rlBaUGkdi",
        "outputId": "75668867-d8e8-44c1-ed4f-d9f823594d53"
      },
      "execution_count": 93,
      "outputs": [
        {
          "output_type": "stream",
          "name": "stderr",
          "text": [
            "/usr/local/lib/python3.10/dist-packages/moviepy/config_defaults.py:1: DeprecationWarning: invalid escape sequence '\\P'\n",
            "  \"\"\"\n",
            "/usr/local/lib/python3.10/dist-packages/gymnasium/wrappers/rendering.py:283: UserWarning: \u001b[33mWARN: Overwriting existing videos at /content folder (try specifying a different `video_folder` for the `RecordVideo` wrapper if this is not desired)\u001b[0m\n",
            "  logger.warn(\n",
            "/usr/local/lib/python3.10/dist-packages/pygame/pkgdata.py:25: DeprecationWarning: pkg_resources is deprecated as an API. See https://setuptools.pypa.io/en/latest/pkg_resources.html\n",
            "  from pkg_resources import resource_stream, resource_exists\n",
            "/usr/local/lib/python3.10/dist-packages/pkg_resources/__init__.py:3154: DeprecationWarning: Deprecated call to `pkg_resources.declare_namespace('google')`.\n",
            "Implementing implicit namespace packages (as specified in PEP 420) is preferred to `pkg_resources.declare_namespace`. See https://setuptools.pypa.io/en/latest/references/keywords.html#keyword-namespace-packages\n",
            "  declare_namespace(pkg)\n",
            "/usr/local/lib/python3.10/dist-packages/pkg_resources/__init__.py:3154: DeprecationWarning: Deprecated call to `pkg_resources.declare_namespace('google.cloud')`.\n",
            "Implementing implicit namespace packages (as specified in PEP 420) is preferred to `pkg_resources.declare_namespace`. See https://setuptools.pypa.io/en/latest/references/keywords.html#keyword-namespace-packages\n",
            "  declare_namespace(pkg)\n",
            "/usr/local/lib/python3.10/dist-packages/pkg_resources/__init__.py:3154: DeprecationWarning: Deprecated call to `pkg_resources.declare_namespace('sphinxcontrib')`.\n",
            "Implementing implicit namespace packages (as specified in PEP 420) is preferred to `pkg_resources.declare_namespace`. See https://setuptools.pypa.io/en/latest/references/keywords.html#keyword-namespace-packages\n",
            "  declare_namespace(pkg)\n"
          ]
        },
        {
          "output_type": "stream",
          "name": "stdout",
          "text": [
            "play_time:169\n"
          ]
        }
      ]
    },
    {
      "cell_type": "markdown",
      "source": [
        "# 動画を描画する"
      ],
      "metadata": {
        "id": "qkayw6h30f7P"
      }
    },
    {
      "cell_type": "code",
      "source": [
        "from IPython.display import HTML\n",
        "from base64 import b64encode\n",
        "\n",
        "mp4 = open('./rl-video-episode-0.mp4', 'rb').read()\n",
        "data_url = 'data:video/mp4;base64,' + b64encode(mp4).decode()\n",
        "HTML(f\"\"\"\n",
        "<video width=\"100%\" height=\"100%\" controls>\n",
        "      <source src=\"{data_url}\" type=\"video/mp4\">\n",
        "</video>\"\"\")"
      ],
      "metadata": {
        "colab": {
          "base_uri": "https://localhost:8080/",
          "height": 592
        },
        "id": "MK8k2nRX0AWg",
        "outputId": "b98c83e7-84ba-4a77-e266-aa887131caf9"
      },
      "execution_count": 94,
      "outputs": [
        {
          "output_type": "execute_result",
          "data": {
            "text/plain": [
              "<IPython.core.display.HTML object>"
            ],
            "text/html": [
              "\n",
              "<video width=\"100%\" height=\"100%\" controls>\n",
              "      <source src=\"data:video/mp4;base64,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\" type=\"video/mp4\">\n",
              "</video>"
            ]
          },
          "metadata": {},
          "execution_count": 94
        }
      ]
    },
    {
      "cell_type": "code",
      "source": [
        "!rm ./rl-video-episode*.mp4"
      ],
      "metadata": {
        "id": "95dqKo30uDPb"
      },
      "execution_count": null,
      "outputs": []
    },
    {
      "cell_type": "code",
      "source": [
        "%%bash\n",
        "apt-get install git"
      ],
      "metadata": {
        "id": "IgP945NYJoIf",
        "colab": {
          "base_uri": "https://localhost:8080/"
        },
        "outputId": "37a15761-addb-4e34-d861-32f0a6563140"
      },
      "execution_count": 95,
      "outputs": [
        {
          "output_type": "stream",
          "name": "stdout",
          "text": [
            "Reading package lists...\n",
            "Building dependency tree...\n",
            "Reading state information...\n",
            "git is already the newest version (1:2.34.1-1ubuntu1.11).\n",
            "0 upgraded, 0 newly installed, 0 to remove and 50 not upgraded.\n"
          ]
        }
      ]
    },
    {
      "cell_type": "code",
      "source": [
        "%%bash\n",
        "git --version\n",
        "git config --global user.email \"taka.flemish.giant@gmail.com\"\n",
        "git config --global user.name \"Takaya Otsu\""
      ],
      "metadata": {
        "colab": {
          "base_uri": "https://localhost:8080/"
        },
        "id": "guxixiSymWO9",
        "outputId": "2628353f-7805-4a9b-bbfb-4807c817ab48"
      },
      "execution_count": 96,
      "outputs": [
        {
          "output_type": "stream",
          "name": "stdout",
          "text": [
            "git version 2.34.1\n"
          ]
        },
        {
          "output_type": "stream",
          "name": "stderr",
          "text": [
            "/usr/local/lib/python3.10/dist-packages/ipykernel/ipkernel.py:283: DeprecationWarning: `should_run_async` will not call `transform_cell` automatically in the future. Please pass the result to `transformed_cell` argument and any exception that happen during thetransform in `preprocessing_exc_tuple` in IPython 7.17 and above.\n",
            "  and should_run_async(code)\n"
          ]
        }
      ]
    },
    {
      "cell_type": "code",
      "source": [
        "%ls **/MountainCar.ipynb"
      ],
      "metadata": {
        "colab": {
          "base_uri": "https://localhost:8080/"
        },
        "id": "GPuNrzwgmeZj",
        "outputId": "31618f9e-e0ae-4ca1-cdd5-435f008ef7f7"
      },
      "execution_count": 100,
      "outputs": [
        {
          "output_type": "stream",
          "name": "stdout",
          "text": [
            "ls: cannot access '**/MountainCar.ipynb': No such file or directory\n"
          ]
        }
      ]
    },
    {
      "cell_type": "code",
      "source": [],
      "metadata": {
        "id": "u1bW1kVemwzl"
      },
      "execution_count": null,
      "outputs": []
    }
  ]
}