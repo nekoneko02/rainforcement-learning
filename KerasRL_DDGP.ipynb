{
  "cells": [
    {
      "cell_type": "code",
      "execution_count": 1,
      "metadata": {
        "colab": {
          "base_uri": "https://localhost:8080/"
        },
        "id": "NGbG3PrhqfvY",
        "outputId": "460883db-cc3f-41d6-f115-3906f66c8a79"
      },
      "outputs": [
        {
          "name": "stdout",
          "output_type": "stream",
          "text": [
            "Already up to date.\n"
          ]
        }
      ],
      "source": [
        "%%bash\n",
        "\n",
        "git pull"
      ]
    },
    {
      "cell_type": "markdown",
      "metadata": {},
      "source": [
        "# Kernel\n",
        "python3.10で動作確認（3.12ではtensorflowがinstallできない）"
      ]
    },
    {
      "cell_type": "code",
      "execution_count": 3,
      "metadata": {},
      "outputs": [
        {
          "name": "stdout",
          "output_type": "stream",
          "text": [
            "Requirement already satisfied: pip in c:\\users\\takaf\\appdata\\local\\programs\\python\\python310\\lib\\site-packages (24.3.1)Note: you may need to restart the kernel to use updated packages.\n",
            "\n"
          ]
        }
      ],
      "source": [
        "%pip install --upgrade pip"
      ]
    },
    {
      "cell_type": "code",
      "execution_count": 7,
      "metadata": {
        "colab": {
          "base_uri": "https://localhost:8080/"
        },
        "id": "NtjgqdA4rci4",
        "outputId": "d7c0b2db-4eb3-4e96-e8f4-30b69945baf7"
      },
      "outputs": [
        {
          "name": "stdout",
          "output_type": "stream",
          "text": [
            "Requirement already satisfied: gymnasium in c:\\users\\takaf\\appdata\\local\\programs\\python\\python310\\lib\\site-packages (1.0.0)\n",
            "Requirement already satisfied: numpy>=1.21.0 in c:\\users\\takaf\\appdata\\local\\programs\\python\\python310\\lib\\site-packages (from gymnasium) (1.26.3)\n",
            "Requirement already satisfied: cloudpickle>=1.2.0 in c:\\users\\takaf\\appdata\\local\\programs\\python\\python310\\lib\\site-packages (from gymnasium) (3.1.0)\n",
            "Requirement already satisfied: typing-extensions>=4.3.0 in c:\\users\\takaf\\appdata\\local\\programs\\python\\python310\\lib\\site-packages (from gymnasium) (4.5.0)\n",
            "Requirement already satisfied: farama-notifications>=0.0.1 in c:\\users\\takaf\\appdata\\local\\programs\\python\\python310\\lib\\site-packages (from gymnasium) (0.0.4)\n",
            "Note: you may need to restart the kernel to use updated packages.\n",
            "Requirement already satisfied: tensorflow in c:\\users\\takaf\\appdata\\local\\programs\\python\\python310\\lib\\site-packages (2.15.0)\n",
            "Requirement already satisfied: tensorflow-intel==2.15.0 in c:\\users\\takaf\\appdata\\local\\programs\\python\\python310\\lib\\site-packages (from tensorflow) (2.15.0)\n",
            "Requirement already satisfied: absl-py>=1.0.0 in c:\\users\\takaf\\appdata\\local\\programs\\python\\python310\\lib\\site-packages (from tensorflow-intel==2.15.0->tensorflow) (2.1.0)\n",
            "Requirement already satisfied: astunparse>=1.6.0 in c:\\users\\takaf\\appdata\\local\\programs\\python\\python310\\lib\\site-packages (from tensorflow-intel==2.15.0->tensorflow) (1.6.3)\n",
            "Requirement already satisfied: flatbuffers>=23.5.26 in c:\\users\\takaf\\appdata\\local\\programs\\python\\python310\\lib\\site-packages (from tensorflow-intel==2.15.0->tensorflow) (23.5.26)\n",
            "Requirement already satisfied: gast!=0.5.0,!=0.5.1,!=0.5.2,>=0.2.1 in c:\\users\\takaf\\appdata\\local\\programs\\python\\python310\\lib\\site-packages (from tensorflow-intel==2.15.0->tensorflow) (0.5.4)\n",
            "Requirement already satisfied: google-pasta>=0.1.1 in c:\\users\\takaf\\appdata\\local\\programs\\python\\python310\\lib\\site-packages (from tensorflow-intel==2.15.0->tensorflow) (0.2.0)\n",
            "Requirement already satisfied: h5py>=2.9.0 in c:\\users\\takaf\\appdata\\local\\programs\\python\\python310\\lib\\site-packages (from tensorflow-intel==2.15.0->tensorflow) (3.10.0)\n",
            "Requirement already satisfied: libclang>=13.0.0 in c:\\users\\takaf\\appdata\\local\\programs\\python\\python310\\lib\\site-packages (from tensorflow-intel==2.15.0->tensorflow) (16.0.6)\n",
            "Requirement already satisfied: ml-dtypes~=0.2.0 in c:\\users\\takaf\\appdata\\local\\programs\\python\\python310\\lib\\site-packages (from tensorflow-intel==2.15.0->tensorflow) (0.2.0)\n",
            "Requirement already satisfied: numpy<2.0.0,>=1.23.5 in c:\\users\\takaf\\appdata\\local\\programs\\python\\python310\\lib\\site-packages (from tensorflow-intel==2.15.0->tensorflow) (1.26.3)\n",
            "Requirement already satisfied: opt-einsum>=2.3.2 in c:\\users\\takaf\\appdata\\local\\programs\\python\\python310\\lib\\site-packages (from tensorflow-intel==2.15.0->tensorflow) (3.3.0)\n",
            "Requirement already satisfied: packaging in c:\\users\\takaf\\appdata\\local\\programs\\python\\python310\\lib\\site-packages (from tensorflow-intel==2.15.0->tensorflow) (21.3)\n",
            "Requirement already satisfied: protobuf!=4.21.0,!=4.21.1,!=4.21.2,!=4.21.3,!=4.21.4,!=4.21.5,<5.0.0dev,>=3.20.3 in c:\\users\\takaf\\appdata\\local\\programs\\python\\python310\\lib\\site-packages (from tensorflow-intel==2.15.0->tensorflow) (4.23.4)\n",
            "Requirement already satisfied: setuptools in c:\\users\\takaf\\appdata\\local\\programs\\python\\python310\\lib\\site-packages (from tensorflow-intel==2.15.0->tensorflow) (57.4.0)\n",
            "Requirement already satisfied: six>=1.12.0 in c:\\users\\takaf\\appdata\\local\\programs\\python\\python310\\lib\\site-packages (from tensorflow-intel==2.15.0->tensorflow) (1.16.0)\n",
            "Requirement already satisfied: termcolor>=1.1.0 in c:\\users\\takaf\\appdata\\local\\programs\\python\\python310\\lib\\site-packages (from tensorflow-intel==2.15.0->tensorflow) (2.4.0)\n",
            "Requirement already satisfied: typing-extensions>=3.6.6 in c:\\users\\takaf\\appdata\\local\\programs\\python\\python310\\lib\\site-packages (from tensorflow-intel==2.15.0->tensorflow) (4.5.0)\n",
            "Requirement already satisfied: wrapt<1.15,>=1.11.0 in c:\\users\\takaf\\appdata\\local\\programs\\python\\python310\\lib\\site-packages (from tensorflow-intel==2.15.0->tensorflow) (1.14.1)\n",
            "Requirement already satisfied: tensorflow-io-gcs-filesystem>=0.23.1 in c:\\users\\takaf\\appdata\\local\\programs\\python\\python310\\lib\\site-packages (from tensorflow-intel==2.15.0->tensorflow) (0.31.0)\n",
            "Requirement already satisfied: grpcio<2.0,>=1.24.3 in c:\\users\\takaf\\appdata\\local\\programs\\python\\python310\\lib\\site-packages (from tensorflow-intel==2.15.0->tensorflow) (1.60.0)\n",
            "Requirement already satisfied: tensorboard<2.16,>=2.15 in c:\\users\\takaf\\appdata\\local\\programs\\python\\python310\\lib\\site-packages (from tensorflow-intel==2.15.0->tensorflow) (2.15.1)\n",
            "Requirement already satisfied: tensorflow-estimator<2.16,>=2.15.0 in c:\\users\\takaf\\appdata\\local\\programs\\python\\python310\\lib\\site-packages (from tensorflow-intel==2.15.0->tensorflow) (2.15.0)\n",
            "Requirement already satisfied: keras<2.16,>=2.15.0 in c:\\users\\takaf\\appdata\\local\\programs\\python\\python310\\lib\\site-packages (from tensorflow-intel==2.15.0->tensorflow) (2.15.0)\n",
            "Requirement already satisfied: wheel<1.0,>=0.23.0 in c:\\users\\takaf\\appdata\\local\\programs\\python\\python310\\lib\\site-packages (from astunparse>=1.6.0->tensorflow-intel==2.15.0->tensorflow) (0.42.0)\n",
            "Requirement already satisfied: google-auth<3,>=1.6.3 in c:\\users\\takaf\\appdata\\local\\programs\\python\\python310\\lib\\site-packages (from tensorboard<2.16,>=2.15->tensorflow-intel==2.15.0->tensorflow) (2.26.2)\n",
            "Requirement already satisfied: google-auth-oauthlib<2,>=0.5 in c:\\users\\takaf\\appdata\\local\\programs\\python\\python310\\lib\\site-packages (from tensorboard<2.16,>=2.15->tensorflow-intel==2.15.0->tensorflow) (1.2.0)\n",
            "Requirement already satisfied: markdown>=2.6.8 in c:\\users\\takaf\\appdata\\local\\programs\\python\\python310\\lib\\site-packages (from tensorboard<2.16,>=2.15->tensorflow-intel==2.15.0->tensorflow) (3.5.2)\n",
            "Requirement already satisfied: requests<3,>=2.21.0 in c:\\users\\takaf\\appdata\\local\\programs\\python\\python310\\lib\\site-packages (from tensorboard<2.16,>=2.15->tensorflow-intel==2.15.0->tensorflow) (2.31.0)\n",
            "Requirement already satisfied: tensorboard-data-server<0.8.0,>=0.7.0 in c:\\users\\takaf\\appdata\\local\\programs\\python\\python310\\lib\\site-packages (from tensorboard<2.16,>=2.15->tensorflow-intel==2.15.0->tensorflow) (0.7.2)\n",
            "Requirement already satisfied: werkzeug>=1.0.1 in c:\\users\\takaf\\appdata\\local\\programs\\python\\python310\\lib\\site-packages (from tensorboard<2.16,>=2.15->tensorflow-intel==2.15.0->tensorflow) (3.0.1)\n",
            "Requirement already satisfied: pyparsing!=3.0.5,>=2.0.2 in c:\\users\\takaf\\appdata\\local\\programs\\python\\python310\\lib\\site-packages (from packaging->tensorflow-intel==2.15.0->tensorflow) (3.0.6)\n",
            "Requirement already satisfied: cachetools<6.0,>=2.0.0 in c:\\users\\takaf\\appdata\\local\\programs\\python\\python310\\lib\\site-packages (from google-auth<3,>=1.6.3->tensorboard<2.16,>=2.15->tensorflow-intel==2.15.0->tensorflow) (5.3.2)\n",
            "Requirement already satisfied: pyasn1-modules>=0.2.1 in c:\\users\\takaf\\appdata\\local\\programs\\python\\python310\\lib\\site-packages (from google-auth<3,>=1.6.3->tensorboard<2.16,>=2.15->tensorflow-intel==2.15.0->tensorflow) (0.3.0)\n",
            "Requirement already satisfied: rsa<5,>=3.1.4 in c:\\users\\takaf\\appdata\\local\\programs\\python\\python310\\lib\\site-packages (from google-auth<3,>=1.6.3->tensorboard<2.16,>=2.15->tensorflow-intel==2.15.0->tensorflow) (4.9)\n",
            "Requirement already satisfied: requests-oauthlib>=0.7.0 in c:\\users\\takaf\\appdata\\local\\programs\\python\\python310\\lib\\site-packages (from google-auth-oauthlib<2,>=0.5->tensorboard<2.16,>=2.15->tensorflow-intel==2.15.0->tensorflow) (1.3.1)\n",
            "Requirement already satisfied: charset-normalizer<4,>=2 in c:\\users\\takaf\\appdata\\local\\programs\\python\\python310\\lib\\site-packages (from requests<3,>=2.21.0->tensorboard<2.16,>=2.15->tensorflow-intel==2.15.0->tensorflow) (3.3.2)\n",
            "Requirement already satisfied: idna<4,>=2.5 in c:\\users\\takaf\\appdata\\local\\programs\\python\\python310\\lib\\site-packages (from requests<3,>=2.21.0->tensorboard<2.16,>=2.15->tensorflow-intel==2.15.0->tensorflow) (3.6)\n",
            "Requirement already satisfied: urllib3<3,>=1.21.1 in c:\\users\\takaf\\appdata\\local\\programs\\python\\python310\\lib\\site-packages (from requests<3,>=2.21.0->tensorboard<2.16,>=2.15->tensorflow-intel==2.15.0->tensorflow) (2.0.7)\n",
            "Requirement already satisfied: certifi>=2017.4.17 in c:\\users\\takaf\\appdata\\local\\programs\\python\\python310\\lib\\site-packages (from requests<3,>=2.21.0->tensorboard<2.16,>=2.15->tensorflow-intel==2.15.0->tensorflow) (2023.11.17)\n",
            "Requirement already satisfied: MarkupSafe>=2.1.1 in c:\\users\\takaf\\appdata\\local\\programs\\python\\python310\\lib\\site-packages (from werkzeug>=1.0.1->tensorboard<2.16,>=2.15->tensorflow-intel==2.15.0->tensorflow) (2.1.3)\n",
            "Requirement already satisfied: pyasn1<0.6.0,>=0.4.6 in c:\\users\\takaf\\appdata\\local\\programs\\python\\python310\\lib\\site-packages (from pyasn1-modules>=0.2.1->google-auth<3,>=1.6.3->tensorboard<2.16,>=2.15->tensorflow-intel==2.15.0->tensorflow) (0.5.1)\n",
            "Requirement already satisfied: oauthlib>=3.0.0 in c:\\users\\takaf\\appdata\\local\\programs\\python\\python310\\lib\\site-packages (from requests-oauthlib>=0.7.0->google-auth-oauthlib<2,>=0.5->tensorboard<2.16,>=2.15->tensorflow-intel==2.15.0->tensorflow) (3.2.2)\n",
            "Note: you may need to restart the kernel to use updated packages.\n",
            "Requirement already satisfied: tf_agents in c:\\users\\takaf\\appdata\\local\\programs\\python\\python310\\lib\\site-packages (0.19.0)\n",
            "Requirement already satisfied: absl-py>=0.6.1 in c:\\users\\takaf\\appdata\\local\\programs\\python\\python310\\lib\\site-packages (from tf_agents) (2.1.0)\n",
            "Requirement already satisfied: cloudpickle>=1.3 in c:\\users\\takaf\\appdata\\local\\programs\\python\\python310\\lib\\site-packages (from tf_agents) (3.1.0)\n",
            "Requirement already satisfied: gin-config>=0.4.0 in c:\\users\\takaf\\appdata\\local\\programs\\python\\python310\\lib\\site-packages (from tf_agents) (0.5.0)\n",
            "Requirement already satisfied: gym<=0.23.0,>=0.17.0 in c:\\users\\takaf\\appdata\\local\\programs\\python\\python310\\lib\\site-packages (from tf_agents) (0.23.0)\n",
            "Requirement already satisfied: numpy>=1.19.0 in c:\\users\\takaf\\appdata\\local\\programs\\python\\python310\\lib\\site-packages (from tf_agents) (1.26.3)\n",
            "Requirement already satisfied: pillow in c:\\users\\takaf\\appdata\\local\\programs\\python\\python310\\lib\\site-packages (from tf_agents) (9.0.0)\n",
            "Requirement already satisfied: six>=1.10.0 in c:\\users\\takaf\\appdata\\local\\programs\\python\\python310\\lib\\site-packages (from tf_agents) (1.16.0)\n",
            "Requirement already satisfied: protobuf>=3.11.3 in c:\\users\\takaf\\appdata\\local\\programs\\python\\python310\\lib\\site-packages (from tf_agents) (4.23.4)\n",
            "Requirement already satisfied: wrapt>=1.11.1 in c:\\users\\takaf\\appdata\\local\\programs\\python\\python310\\lib\\site-packages (from tf_agents) (1.14.1)\n",
            "Requirement already satisfied: typing-extensions==4.5.0 in c:\\users\\takaf\\appdata\\local\\programs\\python\\python310\\lib\\site-packages (from tf_agents) (4.5.0)\n",
            "Requirement already satisfied: pygame==2.1.3 in c:\\users\\takaf\\appdata\\local\\programs\\python\\python310\\lib\\site-packages (from tf_agents) (2.1.3)\n",
            "Requirement already satisfied: tensorflow-probability~=0.23.0 in c:\\users\\takaf\\appdata\\local\\programs\\python\\python310\\lib\\site-packages (from tf_agents) (0.23.0)\n",
            "Requirement already satisfied: gym_notices>=0.0.4 in c:\\users\\takaf\\appdata\\local\\programs\\python\\python310\\lib\\site-packages (from gym<=0.23.0,>=0.17.0->tf_agents) (0.0.8)\n",
            "Requirement already satisfied: decorator in c:\\users\\takaf\\appdata\\roaming\\python\\python310\\site-packages (from tensorflow-probability~=0.23.0->tf_agents) (5.1.1)\n",
            "Requirement already satisfied: gast>=0.3.2 in c:\\users\\takaf\\appdata\\local\\programs\\python\\python310\\lib\\site-packages (from tensorflow-probability~=0.23.0->tf_agents) (0.5.4)\n",
            "Requirement already satisfied: dm-tree in c:\\users\\takaf\\appdata\\local\\programs\\python\\python310\\lib\\site-packages (from tensorflow-probability~=0.23.0->tf_agents) (0.1.8)\n",
            "Note: you may need to restart the kernel to use updated packages.\n",
            "Requirement already satisfied: keras in c:\\users\\takaf\\appdata\\local\\programs\\python\\python310\\lib\\site-packages (2.15.0)\n",
            "Note: you may need to restart the kernel to use updated packages.\n",
            "Requirement already satisfied: numpy in c:\\users\\takaf\\appdata\\local\\programs\\python\\python310\\lib\\site-packages (1.26.3)\n",
            "Note: you may need to restart the kernel to use updated packages.\n",
            "Requirement already satisfied: matplotlib in c:\\users\\takaf\\appdata\\local\\programs\\python\\python310\\lib\\site-packages (3.5.1)\n",
            "Requirement already satisfied: cycler>=0.10 in c:\\users\\takaf\\appdata\\local\\programs\\python\\python310\\lib\\site-packages (from matplotlib) (0.11.0)\n",
            "Requirement already satisfied: fonttools>=4.22.0 in c:\\users\\takaf\\appdata\\local\\programs\\python\\python310\\lib\\site-packages (from matplotlib) (4.28.5)\n",
            "Requirement already satisfied: kiwisolver>=1.0.1 in c:\\users\\takaf\\appdata\\local\\programs\\python\\python310\\lib\\site-packages (from matplotlib) (1.3.2)\n",
            "Requirement already satisfied: numpy>=1.17 in c:\\users\\takaf\\appdata\\local\\programs\\python\\python310\\lib\\site-packages (from matplotlib) (1.26.3)\n",
            "Requirement already satisfied: packaging>=20.0 in c:\\users\\takaf\\appdata\\local\\programs\\python\\python310\\lib\\site-packages (from matplotlib) (21.3)\n",
            "Requirement already satisfied: pillow>=6.2.0 in c:\\users\\takaf\\appdata\\local\\programs\\python\\python310\\lib\\site-packages (from matplotlib) (9.0.0)\n",
            "Requirement already satisfied: pyparsing>=2.2.1 in c:\\users\\takaf\\appdata\\local\\programs\\python\\python310\\lib\\site-packages (from matplotlib) (3.0.6)\n",
            "Requirement already satisfied: python-dateutil>=2.7 in c:\\users\\takaf\\appdata\\local\\programs\\python\\python310\\lib\\site-packages (from matplotlib) (2.8.2)\n",
            "Requirement already satisfied: six>=1.5 in c:\\users\\takaf\\appdata\\local\\programs\\python\\python310\\lib\\site-packages (from python-dateutil>=2.7->matplotlib) (1.16.0)\n",
            "Note: you may need to restart the kernel to use updated packages.\n",
            "Obtaining file:///C:/Users/takaf/workspace/rainforcement-learningNote: you may need to restart the kernel to use updated packages.\n",
            "\n",
            "  Installing build dependencies: started\n",
            "  Installing build dependencies: finished with status 'done'\n",
            "  Checking if build backend supports build_editable: started\n",
            "  Checking if build backend supports build_editable: finished with status 'done'\n",
            "  Getting requirements to build editable: started\n",
            "  Getting requirements to build editable: finished with status 'done'\n",
            "  Installing backend dependencies: started\n",
            "  Installing backend dependencies: finished with status 'done'\n",
            "  Preparing editable metadata (pyproject.toml): started\n",
            "  Preparing editable metadata (pyproject.toml): finished with status 'done'\n",
            "Requirement already satisfied: gymnasium in c:\\users\\takaf\\appdata\\local\\programs\\python\\python310\\lib\\site-packages (from nekoengineer==0.0.1) (1.0.0)\n",
            "Requirement already satisfied: pre-commit in c:\\users\\takaf\\appdata\\local\\programs\\python\\python310\\lib\\site-packages (from nekoengineer==0.0.1) (4.0.1)\n",
            "Requirement already satisfied: pygame>=2.1.3 in c:\\users\\takaf\\appdata\\local\\programs\\python\\python310\\lib\\site-packages (from nekoengineer==0.0.1) (2.1.3)\n",
            "Requirement already satisfied: numpy>=1.21.0 in c:\\users\\takaf\\appdata\\local\\programs\\python\\python310\\lib\\site-packages (from gymnasium->nekoengineer==0.0.1) (1.26.3)\n",
            "Requirement already satisfied: cloudpickle>=1.2.0 in c:\\users\\takaf\\appdata\\local\\programs\\python\\python310\\lib\\site-packages (from gymnasium->nekoengineer==0.0.1) (3.1.0)\n",
            "Requirement already satisfied: typing-extensions>=4.3.0 in c:\\users\\takaf\\appdata\\local\\programs\\python\\python310\\lib\\site-packages (from gymnasium->nekoengineer==0.0.1) (4.5.0)\n",
            "Requirement already satisfied: farama-notifications>=0.0.1 in c:\\users\\takaf\\appdata\\local\\programs\\python\\python310\\lib\\site-packages (from gymnasium->nekoengineer==0.0.1) (0.0.4)\n",
            "Requirement already satisfied: cfgv>=2.0.0 in c:\\users\\takaf\\appdata\\local\\programs\\python\\python310\\lib\\site-packages (from pre-commit->nekoengineer==0.0.1) (3.4.0)\n",
            "Requirement already satisfied: identify>=1.0.0 in c:\\users\\takaf\\appdata\\local\\programs\\python\\python310\\lib\\site-packages (from pre-commit->nekoengineer==0.0.1) (2.6.4)\n",
            "Requirement already satisfied: nodeenv>=0.11.1 in c:\\users\\takaf\\appdata\\local\\programs\\python\\python310\\lib\\site-packages (from pre-commit->nekoengineer==0.0.1) (1.9.1)\n",
            "Requirement already satisfied: pyyaml>=5.1 in c:\\users\\takaf\\appdata\\local\\programs\\python\\python310\\lib\\site-packages (from pre-commit->nekoengineer==0.0.1) (6.0.2)\n",
            "Requirement already satisfied: virtualenv>=20.10.0 in c:\\users\\takaf\\appdata\\local\\programs\\python\\python310\\lib\\site-packages (from pre-commit->nekoengineer==0.0.1) (20.28.1)\n",
            "Requirement already satisfied: distlib<1,>=0.3.7 in c:\\users\\takaf\\appdata\\local\\programs\\python\\python310\\lib\\site-packages (from virtualenv>=20.10.0->pre-commit->nekoengineer==0.0.1) (0.3.9)\n",
            "Requirement already satisfied: filelock<4,>=3.12.2 in c:\\users\\takaf\\appdata\\local\\programs\\python\\python310\\lib\\site-packages (from virtualenv>=20.10.0->pre-commit->nekoengineer==0.0.1) (3.16.1)\n",
            "Requirement already satisfied: platformdirs<5,>=3.9.1 in c:\\users\\takaf\\appdata\\roaming\\python\\python310\\site-packages (from virtualenv>=20.10.0->pre-commit->nekoengineer==0.0.1) (4.1.0)\n",
            "Building wheels for collected packages: nekoengineer\n",
            "  Building editable for nekoengineer (pyproject.toml): started\n",
            "  Building editable for nekoengineer (pyproject.toml): finished with status 'done'\n",
            "  Created wheel for nekoengineer: filename=nekoengineer-0.0.1-py2.py3-none-any.whl size=1885 sha256=54e123172d99a5e6a5dd71f494562e644e09fafb91e7820e70b7649d9d73ab28\n",
            "  Stored in directory: C:\\Users\\takaf\\AppData\\Local\\Temp\\pip-ephem-wheel-cache-dwskfzht\\wheels\\6b\\fe\\e7\\3d31aec58025cc990d5fb22b882e5f8c568cc2bced3da22e59\n",
            "Successfully built nekoengineer\n",
            "Installing collected packages: nekoengineer\n",
            "  Attempting uninstall: nekoengineer\n",
            "    Found existing installation: nekoengineer 0.0.1\n",
            "    Uninstalling nekoengineer-0.0.1:\n",
            "      Successfully uninstalled nekoengineer-0.0.1\n",
            "Successfully installed nekoengineer-0.0.1\n"
          ]
        }
      ],
      "source": [
        "%pip install gymnasium\n",
        "%pip install tensorflow\n",
        "%pip install tf_agents\n",
        "%pip install keras\n",
        "%pip install numpy\n",
        "%pip install matplotlib\n",
        "%pip install -e ."
      ]
    },
    {
      "cell_type": "code",
      "execution_count": 8,
      "metadata": {
        "id": "9iTy90MbhihU"
      },
      "outputs": [],
      "source": [
        "import os\n",
        "\n",
        "os.environ[\"KERAS_BACKEND\"] = \"tensorflow\"\n",
        "\n",
        "import tensorflow as tf\n",
        "import tensorflow.keras as keras\n",
        "from tensorflow.keras import layers\n",
        "\n",
        "import gymnasium as gym\n",
        "import numpy as np\n",
        "import matplotlib.pyplot as plt\n",
        "\n",
        "import nekoengineer\n",
        "import nekoengineer.rl.replay_buffer as rb\n",
        "import nekoengineer.rl.model as model\n",
        "import math"
      ]
    },
    {
      "cell_type": "code",
      "execution_count": 9,
      "metadata": {
        "colab": {
          "base_uri": "https://localhost:8080/"
        },
        "id": "TqGcOWHCWAZo",
        "outputId": "86ad73cb-3e85-492b-9e56-81989e7c47de"
      },
      "outputs": [
        {
          "name": "stdout",
          "output_type": "stream",
          "text": [
            "Num GPUs Available:  0\n"
          ]
        }
      ],
      "source": [
        "# GPUが使用可能かどうかを確認\n",
        "# 0: not GPU\n",
        "print(\"Num GPUs Available: \", len(tf.config.experimental.list_physical_devices('GPU')))"
      ]
    },
    {
      "cell_type": "code",
      "execution_count": 10,
      "metadata": {
        "colab": {
          "base_uri": "https://localhost:8080/"
        },
        "id": "t0H_JT1bhvvY",
        "outputId": "17be6cdd-b449-4947-c15e-1aae8926bb75"
      },
      "outputs": [
        {
          "name": "stdout",
          "output_type": "stream",
          "text": [
            "Size of State Space ->  6\n",
            "Size of Action Space ->  3\n",
            "(array([ 0.9999337 , -0.01151325,  0.99986345,  0.01652431,  0.03277626,\n",
            "        0.08876526], dtype=float32), {})\n"
          ]
        }
      ],
      "source": [
        "# Specify the `render_mode` parameter to show the attempts of the agent in a pop up window.\n",
        "env_name = \"Acrobot-v1\"#\"nekoengineer/CatPlayground-v0\"\n",
        "env = gym.make(env_name, render_mode=\"human\")\n",
        "\n",
        "num_states = env.observation_space.shape[0]\n",
        "print(\"Size of State Space ->  {}\".format(num_states))\n",
        "num_actions = env.action_space.n\n",
        "print(\"Size of Action Space ->  {}\".format(num_actions))\n",
        "\n",
        "print(env.reset())"
      ]
    },
    {
      "cell_type": "code",
      "execution_count": 11,
      "metadata": {
        "id": "EfNlcSiLFE8z"
      },
      "outputs": [],
      "source": [
        "class OUActionNoise:\n",
        "    def __init__(self, mean, std_deviation, theta=0.15, dt=1e-2, x_initial=None):\n",
        "        self.theta = theta\n",
        "        self.mean = mean\n",
        "        self.std_dev = std_deviation\n",
        "        self.dt = dt\n",
        "        self.x_initial = x_initial\n",
        "        self.reset()\n",
        "\n",
        "    def __call__(self):\n",
        "        # Formula taken from https://www.wikipedia.org/wiki/Ornstein-Uhlenbeck_process\n",
        "        x = (\n",
        "            self.x_prev\n",
        "            + self.theta * (self.mean - self.x_prev) * self.dt\n",
        "            + self.std_dev * np.sqrt(self.dt) * np.random.normal(size=self.mean.shape)\n",
        "        )\n",
        "        # Store x into x_prev\n",
        "        # Makes next noise dependent on current one\n",
        "        self.x_prev = x\n",
        "        return x\n",
        "\n",
        "    def reset(self):\n",
        "        if self.x_initial is not None:\n",
        "            self.x_prev = self.x_initial\n",
        "        else:\n",
        "            self.x_prev = np.zeros_like(self.mean)"
      ]
    },
    {
      "cell_type": "code",
      "execution_count": 50,
      "metadata": {
        "id": "cQXKzoArnmiK"
      },
      "outputs": [],
      "source": [
        "def policy(state, epsilon):\n",
        "    if np.random.random() < epsilon:\n",
        "        return np.random.randint(0, 2)\n",
        "    action_probs = keras.backend.squeeze(actor_model(state), axis=0)\n",
        "    return np.argmax(action_probs)\n",
        "\n",
        "# This update target parameters slowly\n",
        "# Based on rate `tau`, which is much less than one.\n",
        "def update_target(target, original, tau):\n",
        "    target_weights = target.get_weights()\n",
        "    original_weights = original.get_weights()\n",
        "\n",
        "    for i in range(len(target_weights)):\n",
        "        target_weights[i] = original_weights[i] * tau + target_weights[i] * (1 - tau)\n",
        "\n",
        "    target.set_weights(target_weights)\n",
        "    \n",
        "# Eager execution is turned on by default in TensorFlow 2. Decorating with tf.function allows\n",
        "# TensorFlow to build a static graph out of the logic and computations in our function.\n",
        "# This provides a large speed up for blocks of code that contain many small TensorFlow operations such as this one.\n",
        "@tf.function\n",
        "def update(\n",
        "    state_batch,\n",
        "    action_batch,\n",
        "    reward_batch,\n",
        "    next_state_batch,\n",
        "):\n",
        "    # Training and updating Actor & Critic networks.\n",
        "    # See Pseudo Code.\n",
        "    with tf.GradientTape() as tape:\n",
        "        target_actions = target_actor(next_state_batch, training=True)\n",
        "        y = reward_batch + gamma * target_critic(\n",
        "            [next_state_batch, target_actions], training=True\n",
        "        )\n",
        "        critic_value = critic_model([state_batch, action_batch], training=True)\n",
        "        critic_loss = keras.backend.mean(keras.backend.square(y - critic_value))\n",
        "\n",
        "    critic_grad = tape.gradient(critic_loss, critic_model.trainable_variables)\n",
        "    critic_optimizer.apply_gradients(\n",
        "        zip(critic_grad, critic_model.trainable_variables)\n",
        "    )\n",
        "\n",
        "    with tf.GradientTape() as tape:\n",
        "        actions = actor_model(state_batch, training=True)\n",
        "        critic_value = critic_model([state_batch, actions], training=True)\n",
        "        # Used `-value` as we want to maximize the value given\n",
        "        # by the critic for our actions\n",
        "        actor_loss = -keras.backend.mean(critic_value)\n",
        "\n",
        "    actor_grad = tape.gradient(actor_loss, actor_model.trainable_variables)\n",
        "    actor_optimizer.apply_gradients(\n",
        "        zip(actor_grad, actor_model.trainable_variables)\n",
        "    )\n",
        "\n",
        "# We compute the loss and update parameters\n",
        "def learn():\n",
        "    if buffer.num_frames() < batch_size:\n",
        "        return\n",
        "    # Get sampling range\n",
        "    record_range = min(buffer.num_frames(), buffer_capacity)\n",
        "    # Randomly sample indices\n",
        "    batch_indices = np.random.choice(record_range, batch_size)\n",
        "\n",
        "    samples = buffer.get_next(sample_batch_size=batch_size, num_steps=1)\n",
        "    samples = samples[0]\n",
        "    # Convert to tensors\n",
        "    state_batch = tf.squeeze(samples[0], axis=1)\n",
        "    action_batch = tf.squeeze(samples[1], axis=1)\n",
        "    reward_batch = tf.squeeze(samples[2], axis=1)\n",
        "    reward_batch = tf.cast(reward_batch, dtype=\"float32\")\n",
        "    next_state_batch = tf.squeeze(samples[3], axis=1)\n",
        "\n",
        "    update(state_batch, action_batch, reward_batch, next_state_batch)"
      ]
    },
    {
      "cell_type": "code",
      "execution_count": 53,
      "metadata": {
        "id": "w6KssqDYYyPD"
      },
      "outputs": [],
      "source": [
        "std_dev = 1\n",
        "\n",
        "actor_model = model.get_actor(num_states=num_states, num_actions=num_actions)\n",
        "critic_model = model.get_critic(num_states=num_states, num_actions=num_actions)\n",
        "\n",
        "target_actor = model.get_actor(num_states=num_states, num_actions=num_actions)\n",
        "target_critic = model.get_critic(num_states=num_states, num_actions=num_actions)\n",
        "\n",
        "# Making the weights equal initially\n",
        "target_actor.set_weights(actor_model.get_weights())\n",
        "target_critic.set_weights(critic_model.get_weights())\n",
        "\n",
        "# Learning rate for actor-critic models\n",
        "critic_lr = 0.001\n",
        "actor_lr = 0.001\n",
        "\n",
        "critic_optimizer = keras.optimizers.Adam(critic_lr)\n",
        "actor_optimizer = keras.optimizers.Adam(actor_lr)\n",
        "\n",
        "total_episodes = 100\n",
        "# Discount factor for future rewards\n",
        "gamma = 0.99\n",
        "# Used to update target networks\n",
        "tau = 0.005\n",
        "\n",
        "batch_size = 64\n",
        "buffer_capacity = 50000\n",
        "buffer = rb.Buffer(num_states=num_states, num_actions=num_actions, buffer_capacity=buffer_capacity, batch_size=batch_size)"
      ]
    },
    {
      "cell_type": "code",
      "execution_count": null,
      "metadata": {
        "colab": {
          "base_uri": "https://localhost:8080/",
          "height": 1000
        },
        "id": "Y_Rv76lenOxW",
        "outputId": "3b4d8ac1-bf98-4298-f939-88a115d741d6"
      },
      "outputs": [
        {
          "name": "stdout",
          "output_type": "stream",
          "text": [
            "Episode * 0 * Avg Reward is ==> -546.7148884058001\n",
            "Episode * 1 * Avg Reward is ==> -543.3697683751584\n",
            "Episode * 2 * Avg Reward is ==> -544.1035804728666\n"
          ]
        }
      ],
      "source": [
        "# To store reward history of each episode\n",
        "ep_reward_list = []\n",
        "# To store average reward history of last few episodes\n",
        "avg_reward_list = []\n",
        "\n",
        "# Takes about 4 min to train\n",
        "for ep in range(total_episodes):\n",
        "    prev_state, _ = env.reset()\n",
        "    episodic_reward = 0\n",
        "    episodic_length = 0\n",
        "\n",
        "    epsilon_initial = 1.0\n",
        "    epsilon_final = 0.01\n",
        "    epsilon_decay = 0.999\n",
        "    epsilon = epsilon_initial\n",
        "\n",
        "    batch_count = 0\n",
        "    prev_state_batch = np.zeros((batch_size, num_states))\n",
        "    action_batch = np.zeros((batch_size, num_actions))\n",
        "    reward_batch = np.zeros((batch_size, 1))\n",
        "    state_batch = np.zeros((batch_size, num_states))\n",
        "\n",
        "    while True:\n",
        "        tf_prev_state = prev_state[np.newaxis, :]\n",
        "\n",
        "        epsilon = max(epsilon_final, epsilon * epsilon_decay )\n",
        "        action = policy(tf_prev_state, epsilon)\n",
        "        # Receive state and reward from environment.\n",
        "        state, reward, done, truncated, info = env.step(action)\n",
        "        reward = reward - (state[0])*0.1 #- (state[0]*state[2]-state[1]*state[3]) * 0.1\n",
        "        #cos(theta1) + cos(theta1 + theta2)\n",
        "        \"\"\"\n",
        "        #距離\n",
        "        x, t = state[:1], state[1:]\n",
        "        dist = math.sqrt(np.sum( (x-t)**2 ))\n",
        "        pixel_size = 10\n",
        "        dist = dist / pixel_size\n",
        "\n",
        "        #壁へのめり込み\n",
        "        speed = action[0][0]\n",
        "        speed_minus = speed - 0.01#(dx = 0でも壁のめり込みを判定する)\n",
        "        speed_plus = speed + 0.01\n",
        "        angle = action[0][1]\n",
        "        dx_minus = (np.cos(angle) * speed_minus, np.sin(angle) * speed_minus)\n",
        "        dx_plus = (np.cos(angle) * speed_plus, np.sin(angle) * speed_plus)\n",
        "        x_new_minus = x - dx_minus\n",
        "        x_new_plus = x - dx_plus\n",
        "        merikomi = np.sum(min(x_new_minus[0] - 0, 0) + min(x_new_minus[1] - 0, 0) + min(0, (pixel_size - 1) - x_new_plus[0]) + min(0, (pixel_size - 1) - x_new_plus[1]))\n",
        "\n",
        "        #移動したことに対して評価\n",
        "        dx = np.array([np.cos(angle) * speed, np.sin(angle) * speed], dtype = int)\n",
        "        delta = np.sum(dx) * 0.1 #めり込みよりプラスにならないように\n",
        "        #評価をカスタマイズ\n",
        "        reward = reward - dist + merikomi + delta\n",
        "        \"\"\"\n",
        "        prev_state_batch[batch_count] = prev_state\n",
        "        action_batch[batch_count] = action\n",
        "        reward_batch[batch_count] = reward\n",
        "        state_batch[batch_count] = state\n",
        "        batch_count += 1\n",
        "        if batch_count == batch_size:\n",
        "            buffer.add_batch((prev_state_batch, action_batch, reward_batch, state_batch))\n",
        "            batch_count = 0\n",
        "\n",
        "        episodic_reward += reward\n",
        "\n",
        "        learn()\n",
        "\n",
        "        update_target(target_actor, actor_model, tau)\n",
        "        update_target(target_critic, critic_model, tau)\n",
        "\n",
        "        # End this episode when `done` or `truncated` is True\n",
        "        if done or truncated:\n",
        "            \n",
        "            break\n",
        "        episodic_length += 1\n",
        "        prev_state = state\n",
        "\n",
        "    # Get average reward of the last 40 episodes\n",
        "    avg_reward = np.mean(ep_reward_list[-40:])\n",
        "\n",
        "    #for _ in range(80):\n",
        "     #   buffer.learn()\n",
        "\n",
        "    ep_reward_list.append(episodic_reward)\n",
        "\n",
        "    # Mean of last 40 episodes\n",
        "    avg_reward = np.mean(ep_reward_list[-40:])\n",
        "    print(\"Episode * {} * Avg Reward is ==> {}\".format(ep, avg_reward))\n",
        "    avg_reward_list.append(avg_reward)\n",
        "\n",
        "# Plotting graph\n",
        "# Episodes versus Avg. Rewards\n",
        "plt.plot(avg_reward_list)\n",
        "plt.xlabel(\"Episode\")\n",
        "plt.ylabel(\"Avg. Episodic Reward\")\n",
        "plt.show()"
      ]
    },
    {
      "cell_type": "code",
      "execution_count": null,
      "metadata": {
        "id": "n71dj4nM5XQR"
      },
      "outputs": [],
      "source": [
        "# Save the weights\n",
        "actor_model.save_weights(\"pendulum_actor.weights.h5\")\n",
        "critic_model.save_weights(\"pendulum_critic.weights.h5\")\n",
        "\n",
        "target_actor.save_weights(\"pendulum_target_actor.weights.h5\")\n",
        "target_critic.save_weights(\"pendulum_target_critic.weights.h5\")"
      ]
    },
    {
      "cell_type": "code",
      "execution_count": null,
      "metadata": {
        "colab": {
          "base_uri": "https://localhost:8080/"
        },
        "id": "W0QWQyBbh6iw",
        "outputId": "f9dd3e8e-7fa6-4df5-df90-0ed5fca25365"
      },
      "outputs": [],
      "source": [
        "import numpy as np\n",
        "\n",
        "_env = gym.make(env_name, render_mode=\"rgb_array\")\n",
        "_env = gym.wrappers.RecordVideo(_env, video_folder=\"./\", disable_logger=True)\n",
        "state, _ = _env.reset()\n",
        "done = False\n",
        "renders = []\n",
        "play_time = 0\n",
        "\n",
        "while not done and play_time < 1000:\n",
        "    play_time += 1\n",
        "    state = keras.ops.expand_dims(\n",
        "        keras.ops.convert_to_tensor(state), 0\n",
        "    )\n",
        "    action = policy(state, ou_noise)\n",
        "    #print(action)\n",
        "    # Receive state and reward from environment.\n",
        "    state, reward, done, truncated, _ = _env.step(action[0])\n",
        "_env.close()\n",
        "print(f\"play_time:{play_time}\")"
      ]
    },
    {
      "cell_type": "code",
      "execution_count": null,
      "metadata": {
        "colab": {
          "base_uri": "https://localhost:8080/",
          "height": 592
        },
        "id": "n_MKKopiwSSe",
        "outputId": "c37a472c-8287-4de8-e6a7-31f4835eb573"
      },
      "outputs": [],
      "source": [
        "from IPython.display import HTML\n",
        "from base64 import b64encode\n",
        "\n",
        "mp4 = open('./rl-video-episode-0.mp4', 'rb').read()\n",
        "data_url = 'data:video/mp4;base64,' + b64encode(mp4).decode()\n",
        "HTML(f\"\"\"\n",
        "<video width=\"100%\" height=\"100%\" controls>\n",
        "      <source src=\"{data_url}\" type=\"video/mp4\">\n",
        "</video>\"\"\")"
      ]
    },
    {
      "cell_type": "code",
      "execution_count": null,
      "metadata": {
        "id": "DG7yRZ550JQr"
      },
      "outputs": [],
      "source": []
    }
  ],
  "metadata": {
    "colab": {
      "provenance": []
    },
    "kernelspec": {
      "display_name": "Python 3",
      "language": "python",
      "name": "python3"
    },
    "language_info": {
      "codemirror_mode": {
        "name": "ipython",
        "version": 3
      },
      "file_extension": ".py",
      "mimetype": "text/x-python",
      "name": "python",
      "nbconvert_exporter": "python",
      "pygments_lexer": "ipython3",
      "version": "3.10.0"
    }
  },
  "nbformat": 4,
  "nbformat_minor": 0
}
